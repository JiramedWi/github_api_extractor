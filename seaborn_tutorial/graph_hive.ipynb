{
 "cells": [
  {
   "cell_type": "code",
   "execution_count": 81,
   "metadata": {
    "collapsed": true
   },
   "outputs": [],
   "source": [
    "import seaborn as sns\n",
    "import pandas as pd\n",
    "import os\n",
    "from pathlib import Path\n",
    "from matplotlib import pyplot as plt\n",
    "import itertools"
   ]
  },
  {
   "cell_type": "code",
   "execution_count": 82,
   "outputs": [
    {
     "name": "stdout",
     "output_type": "stream",
     "text": [
      "/Users/Jumma/github_repo/github_api_extractor/resources\n",
      "/Users/Jumma/github_repo/github_api_extractor/resources/cassanda\n",
      "/Users/Jumma/github_repo/github_api_extractor/resources/hive\n"
     ]
    }
   ],
   "source": [
    "resources = Path(os.path.abspath('../resources'))\n",
    "cassanda_path = Path(os.path.abspath('../resources/cassanda'))\n",
    "hive_path = Path(os.path.abspath('../resources/hive'))\n",
    "\n",
    "print(resources)\n",
    "print(cassanda_path)\n",
    "print(hive_path)"
   ],
   "metadata": {
    "collapsed": false
   }
  },
  {
   "cell_type": "code",
   "execution_count": 83,
   "outputs": [
    {
     "name": "stdout",
     "output_type": "stream",
     "text": [
      "<class 'pandas.core.frame.DataFrame'>\n",
      "RangeIndex: 15 entries, 0 to 14\n",
      "Data columns (total 28 columns):\n",
      " #   Column                       Non-Null Count  Dtype  \n",
      "---  ------                       --------------  -----  \n",
      " 0   App                          15 non-null     object \n",
      " 1   TestClass                    15 non-null     object \n",
      " 2   TestFilePath                 15 non-null     object \n",
      " 3   ProductionFilePath           0 non-null      float64\n",
      " 4   RelativeTestFilePath         15 non-null     object \n",
      " 5   RelativeProductionFilePath   0 non-null      float64\n",
      " 6   NumberOfMethods              15 non-null     int64  \n",
      " 7   Assertion Roulette           15 non-null     int64  \n",
      " 8   Conditional Test Logic       15 non-null     int64  \n",
      " 9   Constructor Initialization   15 non-null     int64  \n",
      " 10  Default Test                 15 non-null     int64  \n",
      " 11  EmptyTest                    15 non-null     int64  \n",
      " 12  Exception Catching Throwing  15 non-null     int64  \n",
      " 13  General Fixture              15 non-null     int64  \n",
      " 14  Mystery Guest                15 non-null     int64  \n",
      " 15  Print Statement              15 non-null     int64  \n",
      " 16  Redundant Assertion          15 non-null     int64  \n",
      " 17  Sensitive Equality           15 non-null     int64  \n",
      " 18  Verbose Test                 15 non-null     int64  \n",
      " 19  Sleepy Test                  15 non-null     int64  \n",
      " 20  Eager Test                   0 non-null      float64\n",
      " 21  Lazy Test                    0 non-null      float64\n",
      " 22  Duplicate Assert             15 non-null     int64  \n",
      " 23  Unknown Test                 15 non-null     int64  \n",
      " 24  IgnoredTest                  15 non-null     int64  \n",
      " 25  Resource Optimism            15 non-null     int64  \n",
      " 26  Magic Number Test            15 non-null     int64  \n",
      " 27  Dependent Test               15 non-null     int64  \n",
      "dtypes: float64(4), int64(20), object(4)\n",
      "memory usage: 3.4+ KB\n"
     ]
    }
   ],
   "source": [
    "hive_2015 = pd.read_csv(hive_path/'Output_hive_2015Aug05_TestSmellDetection_1675797361331.csv')\n",
    "hive_2016 = pd.read_csv(hive_path/'Output_hive_2016Jul06_TestSmellDetection_1675796997456.csv')\n",
    "hive_2017 = pd.read_csv(hive_path/'Output_hive_2017Apr05_TestSmellDetection_1675796760046.csv')\n",
    "hive_2018 = pd.read_csv(hive_path/'Output_hive_2018Dec07_TestSmellDetection_1675796163621.csv')\n",
    "hive_2019 = pd.read_csv(hive_path/'Output_hive_2019Nov06_TestSmellDetection_1675795961152.csv')\n",
    "hive_2015.info()"
   ],
   "metadata": {
    "collapsed": false
   }
  },
  {
   "cell_type": "code",
   "execution_count": 84,
   "outputs": [
    {
     "data": {
      "text/plain": "    App                     TestClass  \\\n0  hive  TestCloudComputeService.java   \n1  hive           TestTestParser.java   \n2  hive    TestTestConfiguration.java   \n3  hive       TestQFileTestBatch.java   \n4  hive              TestScripts.java   \n\n                                        TestFilePath  ProductionFilePath  \\\n0  /Users/Jumma/github_repo/hive/testutils/ptest2...                 NaN   \n1  /Users/Jumma/github_repo/hive/testutils/ptest2...                 NaN   \n2  /Users/Jumma/github_repo/hive/testutils/ptest2...                 NaN   \n3  /Users/Jumma/github_repo/hive/testutils/ptest2...                 NaN   \n4  /Users/Jumma/github_repo/hive/testutils/ptest2...                 NaN   \n\n                                RelativeTestFilePath  \\\n0  ptest/execution/context/TestCloudComputeServic...   \n1           ptest/execution/conf/TestTestParser.java   \n2    ptest/execution/conf/TestTestConfiguration.java   \n3       ptest/execution/conf/TestQFileTestBatch.java   \n4                   ptest/execution/TestScripts.java   \n\n   RelativeProductionFilePath  NumberOfMethods  Assertion Roulette  \\\n0                         NaN                5                   0   \n1                         NaN                6                   0   \n2                         NaN                3                   2   \n3                         NaN                4                   2   \n4                         NaN               10                   0   \n\n   Conditional Test Logic  Constructor Initialization  ...  Verbose Test  \\\n0                       0                           0  ...             0   \n1                       0                           0  ...             0   \n2                       0                           0  ...             0   \n3                       0                           0  ...             0   \n4                       0                           0  ...             0   \n\n   Sleepy Test  Eager Test  Lazy Test  Duplicate Assert  Unknown Test  \\\n0            0         NaN        NaN                 0             0   \n1            0         NaN        NaN                 0             0   \n2            0         NaN        NaN                 0             0   \n3            0         NaN        NaN                 0             0   \n4            0         NaN        NaN                 0             6   \n\n   IgnoredTest  Resource Optimism  Magic Number Test  Dependent Test  \n0            0                  0                  4               0  \n1            0                  1                  3               0  \n2            0                  0                  3               0  \n3            0                  0                  3               0  \n4            0                  0                  6               0  \n\n[5 rows x 28 columns]",
      "text/html": "<div>\n<style scoped>\n    .dataframe tbody tr th:only-of-type {\n        vertical-align: middle;\n    }\n\n    .dataframe tbody tr th {\n        vertical-align: top;\n    }\n\n    .dataframe thead th {\n        text-align: right;\n    }\n</style>\n<table border=\"1\" class=\"dataframe\">\n  <thead>\n    <tr style=\"text-align: right;\">\n      <th></th>\n      <th>App</th>\n      <th>TestClass</th>\n      <th>TestFilePath</th>\n      <th>ProductionFilePath</th>\n      <th>RelativeTestFilePath</th>\n      <th>RelativeProductionFilePath</th>\n      <th>NumberOfMethods</th>\n      <th>Assertion Roulette</th>\n      <th>Conditional Test Logic</th>\n      <th>Constructor Initialization</th>\n      <th>...</th>\n      <th>Verbose Test</th>\n      <th>Sleepy Test</th>\n      <th>Eager Test</th>\n      <th>Lazy Test</th>\n      <th>Duplicate Assert</th>\n      <th>Unknown Test</th>\n      <th>IgnoredTest</th>\n      <th>Resource Optimism</th>\n      <th>Magic Number Test</th>\n      <th>Dependent Test</th>\n    </tr>\n  </thead>\n  <tbody>\n    <tr>\n      <th>0</th>\n      <td>hive</td>\n      <td>TestCloudComputeService.java</td>\n      <td>/Users/Jumma/github_repo/hive/testutils/ptest2...</td>\n      <td>NaN</td>\n      <td>ptest/execution/context/TestCloudComputeServic...</td>\n      <td>NaN</td>\n      <td>5</td>\n      <td>0</td>\n      <td>0</td>\n      <td>0</td>\n      <td>...</td>\n      <td>0</td>\n      <td>0</td>\n      <td>NaN</td>\n      <td>NaN</td>\n      <td>0</td>\n      <td>0</td>\n      <td>0</td>\n      <td>0</td>\n      <td>4</td>\n      <td>0</td>\n    </tr>\n    <tr>\n      <th>1</th>\n      <td>hive</td>\n      <td>TestTestParser.java</td>\n      <td>/Users/Jumma/github_repo/hive/testutils/ptest2...</td>\n      <td>NaN</td>\n      <td>ptest/execution/conf/TestTestParser.java</td>\n      <td>NaN</td>\n      <td>6</td>\n      <td>0</td>\n      <td>0</td>\n      <td>0</td>\n      <td>...</td>\n      <td>0</td>\n      <td>0</td>\n      <td>NaN</td>\n      <td>NaN</td>\n      <td>0</td>\n      <td>0</td>\n      <td>0</td>\n      <td>1</td>\n      <td>3</td>\n      <td>0</td>\n    </tr>\n    <tr>\n      <th>2</th>\n      <td>hive</td>\n      <td>TestTestConfiguration.java</td>\n      <td>/Users/Jumma/github_repo/hive/testutils/ptest2...</td>\n      <td>NaN</td>\n      <td>ptest/execution/conf/TestTestConfiguration.java</td>\n      <td>NaN</td>\n      <td>3</td>\n      <td>2</td>\n      <td>0</td>\n      <td>0</td>\n      <td>...</td>\n      <td>0</td>\n      <td>0</td>\n      <td>NaN</td>\n      <td>NaN</td>\n      <td>0</td>\n      <td>0</td>\n      <td>0</td>\n      <td>0</td>\n      <td>3</td>\n      <td>0</td>\n    </tr>\n    <tr>\n      <th>3</th>\n      <td>hive</td>\n      <td>TestQFileTestBatch.java</td>\n      <td>/Users/Jumma/github_repo/hive/testutils/ptest2...</td>\n      <td>NaN</td>\n      <td>ptest/execution/conf/TestQFileTestBatch.java</td>\n      <td>NaN</td>\n      <td>4</td>\n      <td>2</td>\n      <td>0</td>\n      <td>0</td>\n      <td>...</td>\n      <td>0</td>\n      <td>0</td>\n      <td>NaN</td>\n      <td>NaN</td>\n      <td>0</td>\n      <td>0</td>\n      <td>0</td>\n      <td>0</td>\n      <td>3</td>\n      <td>0</td>\n    </tr>\n    <tr>\n      <th>4</th>\n      <td>hive</td>\n      <td>TestScripts.java</td>\n      <td>/Users/Jumma/github_repo/hive/testutils/ptest2...</td>\n      <td>NaN</td>\n      <td>ptest/execution/TestScripts.java</td>\n      <td>NaN</td>\n      <td>10</td>\n      <td>0</td>\n      <td>0</td>\n      <td>0</td>\n      <td>...</td>\n      <td>0</td>\n      <td>0</td>\n      <td>NaN</td>\n      <td>NaN</td>\n      <td>0</td>\n      <td>6</td>\n      <td>0</td>\n      <td>0</td>\n      <td>6</td>\n      <td>0</td>\n    </tr>\n  </tbody>\n</table>\n<p>5 rows × 28 columns</p>\n</div>"
     },
     "execution_count": 84,
     "metadata": {},
     "output_type": "execute_result"
    }
   ],
   "source": [
    "test_semantic_smell = ['Assertion Roulette','Conditional Test Logic','Duplicate Assert']\n",
    "issue_in_test_step = ['Exception Catching Throwing', 'General Fixture', 'EmptyTest', 'Redundant Assertion', 'Unknown Test', 'Constructor Initialization']\n",
    "code_related = ['Magic Number Test', 'Print Statement', 'IgnoredTest', 'Verbose Test']\n",
    "dependencies = ['Mystery Guest', 'Resource Optimism']\n",
    "test_execution = ['Sensitive Equality', 'Sleepy Test', 'Sensitive Equality']\n",
    "hive_2015.head(5)"
   ],
   "metadata": {
    "collapsed": false
   }
  },
  {
   "cell_type": "code",
   "execution_count": 118,
   "outputs": [
    {
     "name": "stdout",
     "output_type": "stream",
     "text": [
      "    Assertion Roulette  Conditional Test Logic  Constructor Initialization  \\\n",
      "0                    0                       0                           0   \n",
      "1                    0                       0                           0   \n",
      "2                    2                       0                           0   \n",
      "3                    2                       0                           0   \n",
      "4                    0                       0                           0   \n",
      "5                    0                       0                           0   \n",
      "6                    1                       1                           0   \n",
      "7                    0                       0                           0   \n",
      "8                    2                       0                           0   \n",
      "9                    2                       2                           0   \n",
      "10                   6                       0                           0   \n",
      "11                   0                       0                           0   \n",
      "12                   4                       0                           0   \n",
      "13                   1                       0                           0   \n",
      "14                   0                       0                           0   \n",
      "\n",
      "    Default Test  EmptyTest  Exception Catching Throwing  General Fixture  \\\n",
      "0              0          0                            4                3   \n",
      "1              0          0                            3                3   \n",
      "2              0          0                            3                0   \n",
      "3              0          0                            3                0   \n",
      "4              0          0                            6                6   \n",
      "5              0          0                            1                0   \n",
      "6              0          0                            1                0   \n",
      "7              0          0                            1                0   \n",
      "8              0          0                            2                0   \n",
      "9              0          0                            4                0   \n",
      "10             0          0                            7                7   \n",
      "11             0          0                            1                0   \n",
      "12             0          0                            4                0   \n",
      "13             0          0                            1                0   \n",
      "14             0          0                            3                3   \n",
      "\n",
      "    Mystery Guest  Print Statement  Redundant Assertion  Sensitive Equality  \\\n",
      "0               0                0                    0                   0   \n",
      "1               0                0                    0                   0   \n",
      "2               1                0                    0                   1   \n",
      "3               0                0                    0                   0   \n",
      "4               0                0                    0                   0   \n",
      "5               0                0                    0                   0   \n",
      "6               1                0                    0                   0   \n",
      "7               1                0                    0                   0   \n",
      "8               0                0                    0                   0   \n",
      "9               0                0                    0                   0   \n",
      "10              0                0                    0                   6   \n",
      "11              0                0                    0                   0   \n",
      "12              0                0                    0                   0   \n",
      "13              0                0                    0                   0   \n",
      "14              0                0                    0                   1   \n",
      "\n",
      "    Verbose Test  Sleepy Test  Duplicate Assert  Unknown Test  IgnoredTest  \\\n",
      "0              0            0                 0             0            0   \n",
      "1              0            0                 0             0            0   \n",
      "2              0            0                 0             0            0   \n",
      "3              0            0                 0             0            0   \n",
      "4              0            0                 0             6            0   \n",
      "5              0            0                 0             1            0   \n",
      "6              0            0                 0             0            0   \n",
      "7              0            0                 0             0            0   \n",
      "8              0            1                 2             0            0   \n",
      "9              0            0                 1             0            0   \n",
      "10             0            0                 0             0            0   \n",
      "11             0            0                 0             1            0   \n",
      "12             0            0                 0             0            0   \n",
      "13             0            0                 0             0            0   \n",
      "14             0            0                 3             0            0   \n",
      "\n",
      "    Resource Optimism  Magic Number Test  Dependent Test  \\\n",
      "0                   0                  4               0   \n",
      "1                   1                  3               0   \n",
      "2                   0                  3               0   \n",
      "3                   0                  3               0   \n",
      "4                   0                  6               0   \n",
      "5                   0                  1               0   \n",
      "6                   1                  1               0   \n",
      "7                   1                  1               0   \n",
      "8                   0                  2               0   \n",
      "9                   0                  7               0   \n",
      "10                  1                  7               0   \n",
      "11                  0                  1               0   \n",
      "12                  0                  4               0   \n",
      "13                  0                  1               0   \n",
      "14                  1                  3               0   \n",
      "\n",
      "                       TestClass  \n",
      "0   TestCloudComputeService.java  \n",
      "1            TestTestParser.java  \n",
      "2     TestTestConfiguration.java  \n",
      "3        TestQFileTestBatch.java  \n",
      "4               TestScripts.java  \n",
      "5             TestPrepPhase.java  \n",
      "6          TestReportParser.java  \n",
      "7   TestLogDirectoryCleaner.java  \n",
      "8          TestLocalCommand.java  \n",
      "9           TestJIRAService.java  \n",
      "10         TestHostExecutor.java  \n",
      "11       TestReportingPhase.java  \n",
      "12       TestExecutionPhase.java  \n",
      "13           TestTestLogger.java  \n",
      "14         TestTestExecutor.java  \n"
     ]
    },
    {
     "data": {
      "text/plain": "  Test_Smell_Classification_Type              Test_Smell Number_Of_Test_Class  \\\n0            test_semantic_smell      Assertion Roulette                    8   \n0            test_semantic_smell  Conditional Test Logic                    2   \n0            test_semantic_smell        Duplicate Assert                    3   \n\n   Total_Of_Test_Class                                 List_Of_Test_Class  \\\n0                    9  [TestTestConfiguration.java, TestQFileTestBatc...   \n0                    9      [TestReportParser.java, TestJIRAService.java]   \n0                    9  [TestLocalCommand.java, TestJIRAService.java, ...   \n\n  Number_Of_Test_Smell  Total_Of_Test_Smell  Year  \n0                   20                   29  2015  \n0                    3                   29  2015  \n0                    6                   29  2015  ",
      "text/html": "<div>\n<style scoped>\n    .dataframe tbody tr th:only-of-type {\n        vertical-align: middle;\n    }\n\n    .dataframe tbody tr th {\n        vertical-align: top;\n    }\n\n    .dataframe thead th {\n        text-align: right;\n    }\n</style>\n<table border=\"1\" class=\"dataframe\">\n  <thead>\n    <tr style=\"text-align: right;\">\n      <th></th>\n      <th>Test_Smell_Classification_Type</th>\n      <th>Test_Smell</th>\n      <th>Number_Of_Test_Class</th>\n      <th>Total_Of_Test_Class</th>\n      <th>List_Of_Test_Class</th>\n      <th>Number_Of_Test_Smell</th>\n      <th>Total_Of_Test_Smell</th>\n      <th>Year</th>\n    </tr>\n  </thead>\n  <tbody>\n    <tr>\n      <th>0</th>\n      <td>test_semantic_smell</td>\n      <td>Assertion Roulette</td>\n      <td>8</td>\n      <td>9</td>\n      <td>[TestTestConfiguration.java, TestQFileTestBatc...</td>\n      <td>20</td>\n      <td>29</td>\n      <td>2015</td>\n    </tr>\n    <tr>\n      <th>0</th>\n      <td>test_semantic_smell</td>\n      <td>Conditional Test Logic</td>\n      <td>2</td>\n      <td>9</td>\n      <td>[TestReportParser.java, TestJIRAService.java]</td>\n      <td>3</td>\n      <td>29</td>\n      <td>2015</td>\n    </tr>\n    <tr>\n      <th>0</th>\n      <td>test_semantic_smell</td>\n      <td>Duplicate Assert</td>\n      <td>3</td>\n      <td>9</td>\n      <td>[TestLocalCommand.java, TestJIRAService.java, ...</td>\n      <td>6</td>\n      <td>29</td>\n      <td>2015</td>\n    </tr>\n  </tbody>\n</table>\n</div>"
     },
     "execution_count": 118,
     "metadata": {},
     "output_type": "execute_result"
    }
   ],
   "source": [
    "def clean_data(df_input: pd, wanted_test_smell: list, classification_test_smell: str, year: int):\n",
    "    result_df = pd.DataFrame(columns=['Test_Smell_Classification_Type', 'Test_Smell', 'Number_Of_Test_Class','Total_Of_Test_Class', 'List_Of_Test_Class',  'Number_Of_Test_Smell', 'Total_Of_Test_Smell', 'Year'])\n",
    "    df_input = df_input.dropna(axis='columns')\n",
    "    test_smell_df = df_input.loc[:, 'Assertion Roulette':'Dependent Test']\n",
    "    test_smell_df['TestClass'] = df_input['TestClass']\n",
    "    #Test smell calculate part\n",
    "    # test_smell_temp = test_smell_df.sum()\n",
    "    # test_smell_temp = pd.Series(test_smell_temp)\n",
    "    # test_smell_temp = pd.DataFrame({'Test_Smell':test_smell_temp.index, 'Number_Of_Test_Smell' : test_smell_temp}).reset_index(drop=True)\n",
    "    # result_df = pd.concat([result_df, test_smell_temp], ignore_index=True)\n",
    "    print(test_smell_df)\n",
    "\n",
    "    for column in wanted_test_smell:\n",
    "        test_smell = pd.DataFrame({'Test_Smell': [column]})\n",
    "        temp_test_class = test_smell_df.loc[test_smell_df[column] > 0, 'TestClass'].tolist()\n",
    "        list_of_test_class = pd.DataFrame({'List_Of_Test_Class': [temp_test_class]})\n",
    "        number_of_test_class = pd.DataFrame({'Number_Of_Test_Class': [len(temp_test_class)]})\n",
    "        Number_Of_Test_Smell = pd.DataFrame({'Number_Of_Test_Smell': [test_smell_df[column].sum()]})\n",
    "        temp_list = pd.concat([test_smell, list_of_test_class, number_of_test_class, Number_Of_Test_Smell], axis=1)\n",
    "        result_df = pd.concat([result_df,temp_list])\n",
    "\n",
    "    result_df['Total_Of_Test_Class'] = len(list(dict.fromkeys(list(itertools.chain.from_iterable(result_df['List_Of_Test_Class'].tolist())))))\n",
    "    result_df['Test_Smell_Classification_Type'] = classification_test_smell\n",
    "    result_df['Year'] = year\n",
    "    result_df['Total_Of_Test_Smell'] = result_df['Number_Of_Test_Smell'].sum()\n",
    "\n",
    "    return result_df"
   ],
   "metadata": {
    "collapsed": false
   }
  },
  {
   "cell_type": "code",
   "execution_count": null,
   "outputs": [],
   "source": [
    "#2015\n",
    "test_semantic_smell_2015 = clean_data(hive_2015, test_semantic_smell, 'test_semantic_smell', 2015)\n",
    "issue_in_test_step_2015 = clean_data(hive_2015, issue_in_test_step, 'test_semantic_smell', 2015)\n",
    "code_related_2015 = clean_data(hive_2015, code_related, 'test_semantic_smell', 2015)\n",
    "dependencies_2015 = clean_data(hive_2015, dependencies, 'test_semantic_smell', 2015)\n",
    "test_execution_2015 = clean_data(hive_2015, test_execution, 'test_semantic_smell', 2015)\n",
    "#2016\n",
    "test_semantic_smell_2016 = clean_data(hive_2016, test_semantic_smell, 'test_semantic_smell', 2016)\n",
    "issue_in_test_step_2016 = clean_data(hive_2016, issue_in_test_step, 'test_semantic_smell', 2016)\n",
    "code_related_2016 = clean_data(hive_2016, code_related, 'test_semantic_smell', 2016)\n",
    "dependencies_2016 = clean_data(hive_2016, dependencies, 'test_semantic_smell', 2016)\n",
    "test_execution_2016 = clean_data(hive_2016, test_execution, 'test_semantic_smell', 2016)\n",
    "#2017\n",
    "test_semantic_smell_2017 = clean_data(hive_2017, test_semantic_smell, 'test_semantic_smell', 2017)\n",
    "issue_in_test_step_2017 = clean_data(hive_2017, issue_in_test_step, 'test_semantic_smell', 2017)\n",
    "code_related_2017 = clean_data(hive_2017, code_related, 'test_semantic_smell', 2017)\n",
    "dependencies_2017 = clean_data(hive_2017, dependencies, 'test_semantic_smell', 2017)\n",
    "test_execution_2017 = clean_data(hive_2017, test_execution, 'test_semantic_smell', 2017)\n",
    "#2018\n",
    "#2019"
   ],
   "metadata": {
    "collapsed": false
   }
  },
  {
   "cell_type": "code",
   "execution_count": 9,
   "outputs": [
    {
     "data": {
      "text/plain": "                     Test_Smell  Amount  Year\n0               NumberOfMethods      74  2015\n1            Assertion Roulette      20  2015\n2        Conditional Test Logic       3  2015\n3    Constructor Initialization       0  2015\n4                  Default Test       0  2015\n5                     EmptyTest       0  2015\n6   Exception Catching Throwing      44  2015\n7               General Fixture      22  2015\n8                 Mystery Guest       3  2015\n9               Print Statement       0  2015\n10          Redundant Assertion       0  2015\n11           Sensitive Equality       8  2015\n12                 Verbose Test       0  2015\n13                  Sleepy Test       1  2015\n14             Duplicate Assert       6  2015\n15                 Unknown Test       8  2015\n16                  IgnoredTest       0  2015\n17            Resource Optimism       5  2015\n18            Magic Number Test      47  2015\n19               Dependent Test       0  2015",
      "text/html": "<div>\n<style scoped>\n    .dataframe tbody tr th:only-of-type {\n        vertical-align: middle;\n    }\n\n    .dataframe tbody tr th {\n        vertical-align: top;\n    }\n\n    .dataframe thead th {\n        text-align: right;\n    }\n</style>\n<table border=\"1\" class=\"dataframe\">\n  <thead>\n    <tr style=\"text-align: right;\">\n      <th></th>\n      <th>Test_Smell</th>\n      <th>Amount</th>\n      <th>Year</th>\n    </tr>\n  </thead>\n  <tbody>\n    <tr>\n      <th>0</th>\n      <td>NumberOfMethods</td>\n      <td>74</td>\n      <td>2015</td>\n    </tr>\n    <tr>\n      <th>1</th>\n      <td>Assertion Roulette</td>\n      <td>20</td>\n      <td>2015</td>\n    </tr>\n    <tr>\n      <th>2</th>\n      <td>Conditional Test Logic</td>\n      <td>3</td>\n      <td>2015</td>\n    </tr>\n    <tr>\n      <th>3</th>\n      <td>Constructor Initialization</td>\n      <td>0</td>\n      <td>2015</td>\n    </tr>\n    <tr>\n      <th>4</th>\n      <td>Default Test</td>\n      <td>0</td>\n      <td>2015</td>\n    </tr>\n    <tr>\n      <th>5</th>\n      <td>EmptyTest</td>\n      <td>0</td>\n      <td>2015</td>\n    </tr>\n    <tr>\n      <th>6</th>\n      <td>Exception Catching Throwing</td>\n      <td>44</td>\n      <td>2015</td>\n    </tr>\n    <tr>\n      <th>7</th>\n      <td>General Fixture</td>\n      <td>22</td>\n      <td>2015</td>\n    </tr>\n    <tr>\n      <th>8</th>\n      <td>Mystery Guest</td>\n      <td>3</td>\n      <td>2015</td>\n    </tr>\n    <tr>\n      <th>9</th>\n      <td>Print Statement</td>\n      <td>0</td>\n      <td>2015</td>\n    </tr>\n    <tr>\n      <th>10</th>\n      <td>Redundant Assertion</td>\n      <td>0</td>\n      <td>2015</td>\n    </tr>\n    <tr>\n      <th>11</th>\n      <td>Sensitive Equality</td>\n      <td>8</td>\n      <td>2015</td>\n    </tr>\n    <tr>\n      <th>12</th>\n      <td>Verbose Test</td>\n      <td>0</td>\n      <td>2015</td>\n    </tr>\n    <tr>\n      <th>13</th>\n      <td>Sleepy Test</td>\n      <td>1</td>\n      <td>2015</td>\n    </tr>\n    <tr>\n      <th>14</th>\n      <td>Duplicate Assert</td>\n      <td>6</td>\n      <td>2015</td>\n    </tr>\n    <tr>\n      <th>15</th>\n      <td>Unknown Test</td>\n      <td>8</td>\n      <td>2015</td>\n    </tr>\n    <tr>\n      <th>16</th>\n      <td>IgnoredTest</td>\n      <td>0</td>\n      <td>2015</td>\n    </tr>\n    <tr>\n      <th>17</th>\n      <td>Resource Optimism</td>\n      <td>5</td>\n      <td>2015</td>\n    </tr>\n    <tr>\n      <th>18</th>\n      <td>Magic Number Test</td>\n      <td>47</td>\n      <td>2015</td>\n    </tr>\n    <tr>\n      <th>19</th>\n      <td>Dependent Test</td>\n      <td>0</td>\n      <td>2015</td>\n    </tr>\n  </tbody>\n</table>\n</div>"
     },
     "execution_count": 9,
     "metadata": {},
     "output_type": "execute_result"
    }
   ],
   "source": [
    "test_hive = hive_2015.dropna(axis='columns')\n",
    "df = test_hive.loc[:, 'NumberOfMethods':'Dependent Test']\n",
    "total =  df.sum()\n",
    "total = pd.Series(total)\n",
    "frame = {'Amount': total, 'Year': 2015}\n",
    "result = pd.DataFrame(frame)\n",
    "result.reset_index(inplace=True)\n",
    "result = result.rename(columns={'index': 'Test_Smell'}, errors='raise')\n",
    "result"
   ],
   "metadata": {
    "collapsed": false
   }
  },
  {
   "cell_type": "code",
   "execution_count": 626,
   "outputs": [],
   "source": [
    "def total_test_smell(dataframe : pd.DataFrame, year):\n",
    "    dataframe = dataframe.dropna(axis='columns')\n",
    "    df = dataframe.loc[:, 'Assertion Roulette':'Dependent Test']\n",
    "    total =  df.sum()\n",
    "    total = pd.Series(total)\n",
    "    frame = {'Amount': total, 'Year': year}\n",
    "    result = pd.DataFrame(frame)\n",
    "    result.reset_index(inplace=True)\n",
    "    result = result.rename(columns={'index': 'Test_Smell_Type'}, errors='raise')\n",
    "    result['Test_Smell_Total'] = result['Amount'].sum()\n",
    "    return result"
   ],
   "metadata": {
    "collapsed": false
   }
  },
  {
   "cell_type": "code",
   "execution_count": 627,
   "outputs": [
    {
     "name": "stdout",
     "output_type": "stream",
     "text": [
      "    NumberOfMethods  Assertion Roulette  Conditional Test Logic  \\\n",
      "0                 5                   0                       0   \n",
      "1                 6                   0                       0   \n",
      "2                 3                   2                       0   \n",
      "3                 4                   2                       0   \n",
      "4                10                   0                       0   \n",
      "5                 3                   0                       0   \n",
      "6                 3                   1                       1   \n",
      "7                 2                   0                       0   \n",
      "8                 2                   2                       0   \n",
      "9                 7                   2                       2   \n",
      "10               11                   6                       0   \n",
      "11                2                   0                       0   \n",
      "12               10                   4                       0   \n",
      "13                1                   1                       0   \n",
      "14                5                   0                       0   \n",
      "\n",
      "    Constructor Initialization  Default Test  EmptyTest  \\\n",
      "0                            0             0          0   \n",
      "1                            0             0          0   \n",
      "2                            0             0          0   \n",
      "3                            0             0          0   \n",
      "4                            0             0          0   \n",
      "5                            0             0          0   \n",
      "6                            0             0          0   \n",
      "7                            0             0          0   \n",
      "8                            0             0          0   \n",
      "9                            0             0          0   \n",
      "10                           0             0          0   \n",
      "11                           0             0          0   \n",
      "12                           0             0          0   \n",
      "13                           0             0          0   \n",
      "14                           0             0          0   \n",
      "\n",
      "    Exception Catching Throwing  General Fixture  Mystery Guest  \\\n",
      "0                             4                3              0   \n",
      "1                             3                3              0   \n",
      "2                             3                0              1   \n",
      "3                             3                0              0   \n",
      "4                             6                6              0   \n",
      "5                             1                0              0   \n",
      "6                             1                0              1   \n",
      "7                             1                0              1   \n",
      "8                             2                0              0   \n",
      "9                             4                0              0   \n",
      "10                            7                7              0   \n",
      "11                            1                0              0   \n",
      "12                            4                0              0   \n",
      "13                            1                0              0   \n",
      "14                            3                3              0   \n",
      "\n",
      "    Print Statement  Redundant Assertion  Sensitive Equality  Verbose Test  \\\n",
      "0                 0                    0                   0             0   \n",
      "1                 0                    0                   0             0   \n",
      "2                 0                    0                   1             0   \n",
      "3                 0                    0                   0             0   \n",
      "4                 0                    0                   0             0   \n",
      "5                 0                    0                   0             0   \n",
      "6                 0                    0                   0             0   \n",
      "7                 0                    0                   0             0   \n",
      "8                 0                    0                   0             0   \n",
      "9                 0                    0                   0             0   \n",
      "10                0                    0                   6             0   \n",
      "11                0                    0                   0             0   \n",
      "12                0                    0                   0             0   \n",
      "13                0                    0                   0             0   \n",
      "14                0                    0                   1             0   \n",
      "\n",
      "    Sleepy Test  Duplicate Assert  Unknown Test  IgnoredTest  \\\n",
      "0             0                 0             0            0   \n",
      "1             0                 0             0            0   \n",
      "2             0                 0             0            0   \n",
      "3             0                 0             0            0   \n",
      "4             0                 0             6            0   \n",
      "5             0                 0             1            0   \n",
      "6             0                 0             0            0   \n",
      "7             0                 0             0            0   \n",
      "8             1                 2             0            0   \n",
      "9             0                 1             0            0   \n",
      "10            0                 0             0            0   \n",
      "11            0                 0             1            0   \n",
      "12            0                 0             0            0   \n",
      "13            0                 0             0            0   \n",
      "14            0                 3             0            0   \n",
      "\n",
      "    Resource Optimism  Magic Number Test  Dependent Test  \n",
      "0                   0                  4               0  \n",
      "1                   1                  3               0  \n",
      "2                   0                  3               0  \n",
      "3                   0                  3               0  \n",
      "4                   0                  6               0  \n",
      "5                   0                  1               0  \n",
      "6                   1                  1               0  \n",
      "7                   1                  1               0  \n",
      "8                   0                  2               0  \n",
      "9                   0                  7               0  \n",
      "10                  1                  7               0  \n",
      "11                  0                  1               0  \n",
      "12                  0                  4               0  \n",
      "13                  0                  1               0  \n",
      "14                  1                  3               0  \n",
      "Assertion Roulette\n",
      "Conditional Test Logic\n",
      "Duplicate Assert\n",
      "    NumberOfMethods  Assertion Roulette  Conditional Test Logic  \\\n",
      "0                 5                   0                       0   \n",
      "1                 6                   0                       0   \n",
      "2                 3                   2                       0   \n",
      "3                 4                   2                       0   \n",
      "4                10                   0                       0   \n",
      "5                 3                   0                       0   \n",
      "6                 3                   1                       1   \n",
      "7                 2                   0                       0   \n",
      "8                 2                   2                       0   \n",
      "9                 7                   2                       2   \n",
      "10               11                   6                       0   \n",
      "11                2                   0                       0   \n",
      "12               10                   4                       0   \n",
      "13                1                   1                       0   \n",
      "14                5                   0                       0   \n",
      "\n",
      "    Constructor Initialization  Default Test  EmptyTest  \\\n",
      "0                            0             0          0   \n",
      "1                            0             0          0   \n",
      "2                            0             0          0   \n",
      "3                            0             0          0   \n",
      "4                            0             0          0   \n",
      "5                            0             0          0   \n",
      "6                            0             0          0   \n",
      "7                            0             0          0   \n",
      "8                            0             0          0   \n",
      "9                            0             0          0   \n",
      "10                           0             0          0   \n",
      "11                           0             0          0   \n",
      "12                           0             0          0   \n",
      "13                           0             0          0   \n",
      "14                           0             0          0   \n",
      "\n",
      "    Exception Catching Throwing  General Fixture  Mystery Guest  \\\n",
      "0                             4                3              0   \n",
      "1                             3                3              0   \n",
      "2                             3                0              1   \n",
      "3                             3                0              0   \n",
      "4                             6                6              0   \n",
      "5                             1                0              0   \n",
      "6                             1                0              1   \n",
      "7                             1                0              1   \n",
      "8                             2                0              0   \n",
      "9                             4                0              0   \n",
      "10                            7                7              0   \n",
      "11                            1                0              0   \n",
      "12                            4                0              0   \n",
      "13                            1                0              0   \n",
      "14                            3                3              0   \n",
      "\n",
      "    Print Statement  Redundant Assertion  Sensitive Equality  Verbose Test  \\\n",
      "0                 0                    0                   0             0   \n",
      "1                 0                    0                   0             0   \n",
      "2                 0                    0                   1             0   \n",
      "3                 0                    0                   0             0   \n",
      "4                 0                    0                   0             0   \n",
      "5                 0                    0                   0             0   \n",
      "6                 0                    0                   0             0   \n",
      "7                 0                    0                   0             0   \n",
      "8                 0                    0                   0             0   \n",
      "9                 0                    0                   0             0   \n",
      "10                0                    0                   6             0   \n",
      "11                0                    0                   0             0   \n",
      "12                0                    0                   0             0   \n",
      "13                0                    0                   0             0   \n",
      "14                0                    0                   1             0   \n",
      "\n",
      "    Sleepy Test  Duplicate Assert  Unknown Test  IgnoredTest  \\\n",
      "0             0                 0             0            0   \n",
      "1             0                 0             0            0   \n",
      "2             0                 0             0            0   \n",
      "3             0                 0             0            0   \n",
      "4             0                 0             6            0   \n",
      "5             0                 0             1            0   \n",
      "6             0                 0             0            0   \n",
      "7             0                 0             0            0   \n",
      "8             1                 2             0            0   \n",
      "9             0                 1             0            0   \n",
      "10            0                 0             0            0   \n",
      "11            0                 0             1            0   \n",
      "12            0                 0             0            0   \n",
      "13            0                 0             0            0   \n",
      "14            0                 3             0            0   \n",
      "\n",
      "    Resource Optimism  Magic Number Test  Dependent Test  \n",
      "0                   0                  4               0  \n",
      "1                   1                  3               0  \n",
      "2                   0                  3               0  \n",
      "3                   0                  3               0  \n",
      "4                   0                  6               0  \n",
      "5                   0                  1               0  \n",
      "6                   1                  1               0  \n",
      "7                   1                  1               0  \n",
      "8                   0                  2               0  \n",
      "9                   0                  7               0  \n",
      "10                  1                  7               0  \n",
      "11                  0                  1               0  \n",
      "12                  0                  4               0  \n",
      "13                  0                  1               0  \n",
      "14                  1                  3               0  \n",
      "Exception Catching Throwing\n",
      "General Fixture\n",
      "EmptyTest\n",
      "Redundant Assertion\n",
      "Unknown Test\n",
      "    NumberOfMethods  Assertion Roulette  Conditional Test Logic  \\\n",
      "0                 5                   0                       0   \n",
      "1                 6                   0                       0   \n",
      "2                 3                   2                       0   \n",
      "3                 4                   2                       0   \n",
      "4                10                   0                       0   \n",
      "5                 3                   0                       0   \n",
      "6                 3                   1                       1   \n",
      "7                 2                   0                       0   \n",
      "8                 2                   2                       0   \n",
      "9                 7                   2                       2   \n",
      "10               11                   6                       0   \n",
      "11                2                   0                       0   \n",
      "12               10                   4                       0   \n",
      "13                1                   1                       0   \n",
      "14                5                   0                       0   \n",
      "\n",
      "    Constructor Initialization  Default Test  EmptyTest  \\\n",
      "0                            0             0          0   \n",
      "1                            0             0          0   \n",
      "2                            0             0          0   \n",
      "3                            0             0          0   \n",
      "4                            0             0          0   \n",
      "5                            0             0          0   \n",
      "6                            0             0          0   \n",
      "7                            0             0          0   \n",
      "8                            0             0          0   \n",
      "9                            0             0          0   \n",
      "10                           0             0          0   \n",
      "11                           0             0          0   \n",
      "12                           0             0          0   \n",
      "13                           0             0          0   \n",
      "14                           0             0          0   \n",
      "\n",
      "    Exception Catching Throwing  General Fixture  Mystery Guest  \\\n",
      "0                             4                3              0   \n",
      "1                             3                3              0   \n",
      "2                             3                0              1   \n",
      "3                             3                0              0   \n",
      "4                             6                6              0   \n",
      "5                             1                0              0   \n",
      "6                             1                0              1   \n",
      "7                             1                0              1   \n",
      "8                             2                0              0   \n",
      "9                             4                0              0   \n",
      "10                            7                7              0   \n",
      "11                            1                0              0   \n",
      "12                            4                0              0   \n",
      "13                            1                0              0   \n",
      "14                            3                3              0   \n",
      "\n",
      "    Print Statement  Redundant Assertion  Sensitive Equality  Verbose Test  \\\n",
      "0                 0                    0                   0             0   \n",
      "1                 0                    0                   0             0   \n",
      "2                 0                    0                   1             0   \n",
      "3                 0                    0                   0             0   \n",
      "4                 0                    0                   0             0   \n",
      "5                 0                    0                   0             0   \n",
      "6                 0                    0                   0             0   \n",
      "7                 0                    0                   0             0   \n",
      "8                 0                    0                   0             0   \n",
      "9                 0                    0                   0             0   \n",
      "10                0                    0                   6             0   \n",
      "11                0                    0                   0             0   \n",
      "12                0                    0                   0             0   \n",
      "13                0                    0                   0             0   \n",
      "14                0                    0                   1             0   \n",
      "\n",
      "    Sleepy Test  Duplicate Assert  Unknown Test  IgnoredTest  \\\n",
      "0             0                 0             0            0   \n",
      "1             0                 0             0            0   \n",
      "2             0                 0             0            0   \n",
      "3             0                 0             0            0   \n",
      "4             0                 0             6            0   \n",
      "5             0                 0             1            0   \n",
      "6             0                 0             0            0   \n",
      "7             0                 0             0            0   \n",
      "8             1                 2             0            0   \n",
      "9             0                 1             0            0   \n",
      "10            0                 0             0            0   \n",
      "11            0                 0             1            0   \n",
      "12            0                 0             0            0   \n",
      "13            0                 0             0            0   \n",
      "14            0                 3             0            0   \n",
      "\n",
      "    Resource Optimism  Magic Number Test  Dependent Test  \n",
      "0                   0                  4               0  \n",
      "1                   1                  3               0  \n",
      "2                   0                  3               0  \n",
      "3                   0                  3               0  \n",
      "4                   0                  6               0  \n",
      "5                   0                  1               0  \n",
      "6                   1                  1               0  \n",
      "7                   1                  1               0  \n",
      "8                   0                  2               0  \n",
      "9                   0                  7               0  \n",
      "10                  1                  7               0  \n",
      "11                  0                  1               0  \n",
      "12                  0                  4               0  \n",
      "13                  0                  1               0  \n",
      "14                  1                  3               0  \n",
      "Magic Number Test\n",
      "Print Statement\n",
      "Ignored Test\n"
     ]
    },
    {
     "ename": "KeyError",
     "evalue": "'Ignored Test'",
     "output_type": "error",
     "traceback": [
      "\u001B[0;31m---------------------------------------------------------------------------\u001B[0m",
      "\u001B[0;31mKeyError\u001B[0m                                  Traceback (most recent call last)",
      "File \u001B[0;32m~/opt/anaconda3/envs/javaIndentifierIR/lib/python3.10/site-packages/pandas/core/indexes/base.py:3629\u001B[0m, in \u001B[0;36mIndex.get_loc\u001B[0;34m(self, key, method, tolerance)\u001B[0m\n\u001B[1;32m   3628\u001B[0m \u001B[38;5;28;01mtry\u001B[39;00m:\n\u001B[0;32m-> 3629\u001B[0m     \u001B[38;5;28;01mreturn\u001B[39;00m \u001B[38;5;28;43mself\u001B[39;49m\u001B[38;5;241;43m.\u001B[39;49m\u001B[43m_engine\u001B[49m\u001B[38;5;241;43m.\u001B[39;49m\u001B[43mget_loc\u001B[49m\u001B[43m(\u001B[49m\u001B[43mcasted_key\u001B[49m\u001B[43m)\u001B[49m\n\u001B[1;32m   3630\u001B[0m \u001B[38;5;28;01mexcept\u001B[39;00m \u001B[38;5;167;01mKeyError\u001B[39;00m \u001B[38;5;28;01mas\u001B[39;00m err:\n",
      "File \u001B[0;32m~/opt/anaconda3/envs/javaIndentifierIR/lib/python3.10/site-packages/pandas/_libs/index.pyx:136\u001B[0m, in \u001B[0;36mpandas._libs.index.IndexEngine.get_loc\u001B[0;34m()\u001B[0m\n",
      "File \u001B[0;32m~/opt/anaconda3/envs/javaIndentifierIR/lib/python3.10/site-packages/pandas/_libs/index.pyx:163\u001B[0m, in \u001B[0;36mpandas._libs.index.IndexEngine.get_loc\u001B[0;34m()\u001B[0m\n",
      "File \u001B[0;32mpandas/_libs/hashtable_class_helper.pxi:5198\u001B[0m, in \u001B[0;36mpandas._libs.hashtable.PyObjectHashTable.get_item\u001B[0;34m()\u001B[0m\n",
      "File \u001B[0;32mpandas/_libs/hashtable_class_helper.pxi:5206\u001B[0m, in \u001B[0;36mpandas._libs.hashtable.PyObjectHashTable.get_item\u001B[0;34m()\u001B[0m\n",
      "\u001B[0;31mKeyError\u001B[0m: 'Ignored Test'",
      "\nThe above exception was the direct cause of the following exception:\n",
      "\u001B[0;31mKeyError\u001B[0m                                  Traceback (most recent call last)",
      "Cell \u001B[0;32mIn[627], line 43\u001B[0m\n\u001B[1;32m     41\u001B[0m test_semantic_smell_2015 \u001B[38;5;241m=\u001B[39m convert_dataframe(hive_2015, test_semantic_smell, \u001B[38;5;124m'\u001B[39m\u001B[38;5;124mtest_semantic_smell\u001B[39m\u001B[38;5;124m'\u001B[39m, \u001B[38;5;241m2015\u001B[39m)\n\u001B[1;32m     42\u001B[0m issue_in_test_step_2015 \u001B[38;5;241m=\u001B[39m convert_dataframe(hive_2015, issue_in_test_step, \u001B[38;5;124m'\u001B[39m\u001B[38;5;124missue_in_test_step\u001B[39m\u001B[38;5;124m'\u001B[39m, \u001B[38;5;241m2015\u001B[39m)\n\u001B[0;32m---> 43\u001B[0m code_related_2015 \u001B[38;5;241m=\u001B[39m \u001B[43mconvert_dataframe\u001B[49m\u001B[43m(\u001B[49m\u001B[43mhive_2015\u001B[49m\u001B[43m,\u001B[49m\u001B[43m \u001B[49m\u001B[43mcode_related\u001B[49m\u001B[43m,\u001B[49m\u001B[43m \u001B[49m\u001B[38;5;124;43m'\u001B[39;49m\u001B[38;5;124;43mcode_related\u001B[39;49m\u001B[38;5;124;43m'\u001B[39;49m\u001B[43m,\u001B[49m\u001B[43m \u001B[49m\u001B[38;5;241;43m2015\u001B[39;49m\u001B[43m)\u001B[49m\n\u001B[1;32m     44\u001B[0m dependencies_2015 \u001B[38;5;241m=\u001B[39m convert_dataframe(hive_2015, dependencies, \u001B[38;5;124m'\u001B[39m\u001B[38;5;124mdependencies\u001B[39m\u001B[38;5;124m'\u001B[39m, \u001B[38;5;241m2015\u001B[39m)\n\u001B[1;32m     45\u001B[0m test_execution_2015 \u001B[38;5;241m=\u001B[39m convert_dataframe(hive_2015, test_execution, \u001B[38;5;124m'\u001B[39m\u001B[38;5;124mtest_execution\u001B[39m\u001B[38;5;124m'\u001B[39m, \u001B[38;5;241m2015\u001B[39m)\n",
      "Cell \u001B[0;32mIn[627], line 15\u001B[0m, in \u001B[0;36mconvert_dataframe\u001B[0;34m(df_input, wanted_columns, classification, year)\u001B[0m\n\u001B[1;32m     13\u001B[0m test_smell_type \u001B[38;5;241m=\u001B[39m pd\u001B[38;5;241m.\u001B[39mDataFrame({\u001B[38;5;124m'\u001B[39m\u001B[38;5;124mTest_Smell_Type\u001B[39m\u001B[38;5;124m'\u001B[39m: column}, index\u001B[38;5;241m=\u001B[39m[\u001B[38;5;241m0\u001B[39m])\n\u001B[1;32m     14\u001B[0m \u001B[38;5;28mprint\u001B[39m(column)\n\u001B[0;32m---> 15\u001B[0m Number_Of_Test_Smell_Type \u001B[38;5;241m=\u001B[39m pd\u001B[38;5;241m.\u001B[39mDataFrame({\u001B[38;5;124m'\u001B[39m\u001B[38;5;124mNumber_Of_Test_Smell_Type\u001B[39m\u001B[38;5;124m'\u001B[39m: \u001B[43mdf\u001B[49m\u001B[43m[\u001B[49m\u001B[43mcolumn\u001B[49m\u001B[43m]\u001B[49m\u001B[38;5;241m.\u001B[39msum()}, index\u001B[38;5;241m=\u001B[39m[\u001B[38;5;241m0\u001B[39m])\n\u001B[1;32m     16\u001B[0m temp_test_class \u001B[38;5;241m=\u001B[39m df\u001B[38;5;241m.\u001B[39mloc[df[column] \u001B[38;5;241m>\u001B[39m \u001B[38;5;241m0\u001B[39m, \u001B[38;5;124m'\u001B[39m\u001B[38;5;124mTestClass_list\u001B[39m\u001B[38;5;124m'\u001B[39m]\u001B[38;5;241m.\u001B[39mtolist()\n\u001B[1;32m     17\u001B[0m TestClass_list \u001B[38;5;241m=\u001B[39m pd\u001B[38;5;241m.\u001B[39mDataFrame({\u001B[38;5;124m'\u001B[39m\u001B[38;5;124mTestClass_list\u001B[39m\u001B[38;5;124m'\u001B[39m: [temp_test_class]}, index\u001B[38;5;241m=\u001B[39m[\u001B[38;5;241m0\u001B[39m])\n",
      "File \u001B[0;32m~/opt/anaconda3/envs/javaIndentifierIR/lib/python3.10/site-packages/pandas/core/frame.py:3505\u001B[0m, in \u001B[0;36mDataFrame.__getitem__\u001B[0;34m(self, key)\u001B[0m\n\u001B[1;32m   3503\u001B[0m \u001B[38;5;28;01mif\u001B[39;00m \u001B[38;5;28mself\u001B[39m\u001B[38;5;241m.\u001B[39mcolumns\u001B[38;5;241m.\u001B[39mnlevels \u001B[38;5;241m>\u001B[39m \u001B[38;5;241m1\u001B[39m:\n\u001B[1;32m   3504\u001B[0m     \u001B[38;5;28;01mreturn\u001B[39;00m \u001B[38;5;28mself\u001B[39m\u001B[38;5;241m.\u001B[39m_getitem_multilevel(key)\n\u001B[0;32m-> 3505\u001B[0m indexer \u001B[38;5;241m=\u001B[39m \u001B[38;5;28;43mself\u001B[39;49m\u001B[38;5;241;43m.\u001B[39;49m\u001B[43mcolumns\u001B[49m\u001B[38;5;241;43m.\u001B[39;49m\u001B[43mget_loc\u001B[49m\u001B[43m(\u001B[49m\u001B[43mkey\u001B[49m\u001B[43m)\u001B[49m\n\u001B[1;32m   3506\u001B[0m \u001B[38;5;28;01mif\u001B[39;00m is_integer(indexer):\n\u001B[1;32m   3507\u001B[0m     indexer \u001B[38;5;241m=\u001B[39m [indexer]\n",
      "File \u001B[0;32m~/opt/anaconda3/envs/javaIndentifierIR/lib/python3.10/site-packages/pandas/core/indexes/base.py:3631\u001B[0m, in \u001B[0;36mIndex.get_loc\u001B[0;34m(self, key, method, tolerance)\u001B[0m\n\u001B[1;32m   3629\u001B[0m     \u001B[38;5;28;01mreturn\u001B[39;00m \u001B[38;5;28mself\u001B[39m\u001B[38;5;241m.\u001B[39m_engine\u001B[38;5;241m.\u001B[39mget_loc(casted_key)\n\u001B[1;32m   3630\u001B[0m \u001B[38;5;28;01mexcept\u001B[39;00m \u001B[38;5;167;01mKeyError\u001B[39;00m \u001B[38;5;28;01mas\u001B[39;00m err:\n\u001B[0;32m-> 3631\u001B[0m     \u001B[38;5;28;01mraise\u001B[39;00m \u001B[38;5;167;01mKeyError\u001B[39;00m(key) \u001B[38;5;28;01mfrom\u001B[39;00m \u001B[38;5;21;01merr\u001B[39;00m\n\u001B[1;32m   3632\u001B[0m \u001B[38;5;28;01mexcept\u001B[39;00m \u001B[38;5;167;01mTypeError\u001B[39;00m:\n\u001B[1;32m   3633\u001B[0m     \u001B[38;5;66;03m# If we have a listlike key, _check_indexing_error will raise\u001B[39;00m\n\u001B[1;32m   3634\u001B[0m     \u001B[38;5;66;03m#  InvalidIndexError. Otherwise we fall through and re-raise\u001B[39;00m\n\u001B[1;32m   3635\u001B[0m     \u001B[38;5;66;03m#  the TypeError.\u001B[39;00m\n\u001B[1;32m   3636\u001B[0m     \u001B[38;5;28mself\u001B[39m\u001B[38;5;241m.\u001B[39m_check_indexing_error(key)\n",
      "\u001B[0;31mKeyError\u001B[0m: 'Ignored Test'"
     ]
    }
   ],
   "source": [
    "def total_test_method(dataframe : pd.DataFrame, year):\n",
    "    dataframe = dataframe.dropna(axis='columns')\n",
    "    df = dataframe.loc[:, 'NumberOfMethods':'Dependent Test']\n",
    "    total =  df.sum()\n",
    "    total = pd.Series(total)\n",
    "    frame = {'Amount': total, 'Year': year}\n",
    "    result = pd.DataFrame(frame)\n",
    "    result.reset_index(inplace=True)\n",
    "    result = result.rename(columns={'index': 'Test_Smell_Type'}, errors='raise')\n",
    "    return result"
   ],
   "metadata": {
    "collapsed": false
   }
  },
  {
   "cell_type": "code",
   "execution_count": null,
   "outputs": [],
   "source": [
    "testsmell2015 = total_test_method(hive_2015, 2015)\n",
    "testsmell2016 = total_test_method(hive_2016, 2016)\n",
    "testsmell2017 = total_test_method(hive_2017, 2017)\n",
    "testsmell2018 = total_test_method(hive_2018, 2018)\n",
    "testsmell2019 = total_test_method(hive_2019, 2019)\n",
    "all = [testsmell2015,testsmell2016,testsmell2017,testsmell2018,testsmell2019]\n",
    "df = pd.concat(all, axis=0)\n",
    "df = df.loc[df['Test_Smell_Type'] == 'NumberOfMethods']\n",
    "df = df.rename(columns={'Test_Smell_Type': 'Test_Method', 'Amount': 'Test_Method_Total'})\n",
    "df = df.drop(['Test_Method'], axis=1)\n",
    "df\n",
    "# sns.barplot(x='Year', y='Amount', hue='Test_Smell_Type', data=df)"
   ],
   "metadata": {
    "collapsed": false
   }
  },
  {
   "cell_type": "code",
   "execution_count": null,
   "outputs": [],
   "source": [
    "total_hive2015 = total_test_smell(hive_2015, 2015)\n",
    "total_hive2016 = total_test_smell(hive_2016, 2016)\n",
    "total_hive2017 = total_test_smell(hive_2017, 2017)\n",
    "total_hive2018 = total_test_smell(hive_2018, 2018)\n",
    "total_hive2019 = total_test_smell(hive_2019, 2019)\n",
    "all_list_hive = [total_hive2015,total_hive2016,total_hive2017,total_hive2018,total_hive2019]\n",
    "all_list_hive_total = pd.concat(all_list_hive, axis=0)\n",
    "all_list_hive_total = all_list_hive_total.reset_index(drop=True)\n",
    "all_list_hive_total = all_list_hive_total.merge(df, on='Year', how='left')\n",
    "all_list_hive_total\n",
    "# all_list_hive_total = all_list_hive_total.rename({0: '2015',1: '2016',2: '2017',3: '2018',4: '2019'}, axis='columns', errors='raise')\n",
    "# all_list_hive_total\n"
   ],
   "metadata": {
    "collapsed": false
   }
  },
  {
   "cell_type": "code",
   "execution_count": null,
   "outputs": [],
   "source": [
    "star_each_year = pd.DataFrame({\n",
    "    'Year':[2015, 2016, 2017, 2018, 2019],\n",
    "    'Star':[570, 870, 1200, 2130, 2760]\n",
    "})\n",
    "star_each_year\n",
    "all_list_hive_total = all_list_hive_total.merge(star_each_year, on='Year', how='left')\n",
    "all_list_hive_total"
   ],
   "metadata": {
    "collapsed": false
   }
  },
  {
   "cell_type": "code",
   "execution_count": null,
   "outputs": [],
   "source": [
    "all_list_hive_total['Density_test_smell'] = (all_list_hive_total['Test_Smell_Total']/all_list_hive_total['Test_Method_Total'])\n",
    "all_list_hive_total['Density_each_test_smell'] = (all_list_hive_total['Amount']/all_list_hive_total['Test_Method_Total'])\n",
    "all_list_hive_total\n",
    "all_list_hive_total.to_csv('/Users/Jumma/github_repo/github_api_extractor/resources/dataframe/hive.csv')"
   ],
   "metadata": {
    "collapsed": false
   }
  },
  {
   "cell_type": "code",
   "execution_count": null,
   "outputs": [],
   "source": [
    "# create line chart with star\n",
    "sns.set_style(\"whitegrid\")\n",
    "plt.figure(figsize=(10,6))\n",
    "sns.lineplot(data=all_list_hive_total.set_index('Year').drop(['Amount', 'Density_test_smell', 'Density_each_test_smell'], axis=1), linewidth=2.5, dashes=False)\n",
    "plt.title('Total Number of Test Smells and Test Methods by Year', fontsize=16)\n",
    "plt.xlabel('Year', fontsize=14)\n",
    "plt.ylabel('Amount', fontsize=14)\n",
    "plt.show()"
   ],
   "metadata": {
    "collapsed": false
   }
  },
  {
   "cell_type": "code",
   "execution_count": null,
   "outputs": [],
   "source": [
    "# create line chart with star\n",
    "sns.set_style(\"whitegrid\")\n",
    "plt.figure(figsize=(10,6))\n",
    "ax1 = sns.lineplot(data=all_list_hive_total.set_index('Year'), linewidth=2.5 ,x='Year', y='Amount',hue='Test_Smell_Type', dashes=False)\n",
    "plt.legend(bbox_to_anchor=(1.12, 1), loc='upper left', borderaxespad=0)\n",
    "ax2 = ax1.twinx()\n",
    "sns.lineplot(data=all_list_hive_total.set_index('Year'),linewidth=2.5 ,x='Year', y='Star', color='green')\n",
    "plt.title('Test Smell Types by Year', fontsize=16)\n",
    "plt.xlabel('Year', fontsize=14)\n",
    "# plt.ylabel('Amount', fontsize=14)\n",
    "\n",
    "\n",
    "plt.show()"
   ],
   "metadata": {
    "collapsed": false
   }
  },
  {
   "cell_type": "code",
   "execution_count": null,
   "outputs": [],
   "source": [
    "# create line chart with star\n",
    "sns.set_style(\"whitegrid\")\n",
    "plt.figure(figsize=(10,6))\n",
    "ax1 = sns.lineplot(data=all_list_hive_total.set_index('Year'), linewidth=2.5 ,x='Year', y='Density_each_test_smell',hue='Test_Smell_Type', dashes=False)\n",
    "plt.legend(bbox_to_anchor=(1.12, 1), loc='upper left', borderaxespad=0)\n",
    "ax2 = ax1.twinx()\n",
    "sns.lineplot(data=all_list_hive_total.set_index('Year'),linewidth=2.5 ,x='Year', y='Star', color='green')\n",
    "plt.title('Test Smell density by Year', fontsize=16)\n",
    "plt.xlabel('Year', fontsize=14)\n",
    "# plt.ylabel('Amount', fontsize=14)\n",
    "\n",
    "plt.show()"
   ],
   "metadata": {
    "collapsed": false
   }
  },
  {
   "cell_type": "code",
   "execution_count": null,
   "outputs": [],
   "source": [
    "test_semantic_smell = ['Assertion Roulette','Conditional Test Logic','Duplicate Assert', 'Eager Test', 'Lazy Test']\n",
    "test_semantic_smell = all_list_hive_total[~all_list_hive_total.Test_Smell_Type.str.contains('|'.join(test_semantic_smell)) == False]\n",
    "test_semantic_smell['Classification'] = 'test semantic'\n",
    "temp = test_semantic_smell.groupby('Year')['Amount'].sum()\n",
    "test_semantic_smell = test_semantic_smell.merge(temp.rename('Classification_Test_Smell_Total'), left_on='Year', right_on='Year')\n",
    "issue_in_test_step = ['Exception Handling', 'General Fixture', 'Empty Test', 'Redundant Assertion', 'Unknown Test']\n",
    "issue_in_test_step = all_list_hive_total[~all_list_hive_total.Test_Smell_Type.str.contains('|'.join(issue_in_test_step)) == False]\n",
    "issue_in_test_step['Classification'] = 'issue in test step'\n",
    "temp = issue_in_test_step.groupby('Year')['Amount'].sum()\n",
    "issue_in_test_step = issue_in_test_step.merge(temp.rename('Classification_Test_Smell_Total'), left_on='Year', right_on='Year')\n",
    "code_related = ['Magic Number Test', 'Redundant Print', 'Ignored Test']\n",
    "code_related = all_list_hive_total[~all_list_hive_total.Test_Smell_Type.str.contains('|'.join(code_related)) == False]\n",
    "code_related['Classification'] = 'code related'\n",
    "temp = code_related.groupby('Year')['Amount'].sum()\n",
    "code_related = code_related.merge(temp.rename('Classification_Test_Smell_Total'), left_on='Year', right_on='Year')\n",
    "test_execution = ['Sensitive Equality', 'Sleepy Test']\n",
    "test_execution = all_list_hive_total[~all_list_hive_total.Test_Smell_Type.str.contains('|'.join(test_execution)) == False]\n",
    "test_execution['Classification'] = 'test execution'\n",
    "temp = test_execution.groupby('Year')['Amount'].sum()\n",
    "test_execution = test_execution.merge(temp.rename('Classification_Test_Smell_Total'), left_on='Year', right_on='Year')\n",
    "dependencies = ['Mystery Guest', 'Resource Optimism']\n",
    "dependencies = all_list_hive_total[~all_list_hive_total.Test_Smell_Type.str.contains('|'.join(dependencies)) == False]\n",
    "dependencies['Classification'] = 'dependencies'\n",
    "temp = dependencies.groupby('Year')['Amount'].sum()\n",
    "dependencies = dependencies.merge(temp.rename('Classification_Test_Smell_Total'), left_on='Year', right_on='Year')\n",
    "list_Classification = [test_semantic_smell, issue_in_test_step, code_related, test_execution, dependencies]\n",
    "list_Classification = pd.concat(list_Classification)\n",
    "list_Classification = list_Classification.reset_index(drop=True)\n",
    "list_Classification\n",
    "# list_classification = ['test semantic', 'issue in test step', 'code related', 'test execution', 'dependencies']"
   ],
   "metadata": {
    "collapsed": false
   }
  },
  {
   "cell_type": "code",
   "execution_count": null,
   "outputs": [],
   "source": [
    "sns.set_style(\"whitegrid\")\n",
    "plt.figure(figsize=(10,6))\n",
    "ax1 = sns.lineplot(data=list_Classification.set_index('Year'), linewidth=2.5 ,x='Year', y='Classification_Test_Smell_Total' ,hue='Classification', dashes=False)\n",
    "plt.legend(bbox_to_anchor=(1.12, 1), loc='upper left', borderaxespad=0)\n",
    "ax2 = ax1.twinx()\n",
    "sns.lineplot(data=all_list_hive_total.set_index('Year'),linewidth=2.5 ,x='Year', y='Star', color='gray')\n",
    "plt.title('Classification test smell total by year, Hive', fontsize=16)\n",
    "plt.xlabel('Year', fontsize=14)\n",
    "# plt.ylabel('Amount', fontsize=14)\n",
    "\n",
    "plt.show()"
   ],
   "metadata": {
    "collapsed": false
   }
  },
  {
   "cell_type": "code",
   "execution_count": null,
   "outputs": [],
   "source": [],
   "metadata": {
    "collapsed": false
   }
  },
  {
   "cell_type": "markdown",
   "source": [
    "### Classification by Vahid Garousi 2018"
   ],
   "metadata": {
    "collapsed": false
   }
  },
  {
   "cell_type": "code",
   "execution_count": null,
   "outputs": [],
   "source": [
    "sns.set_style(\"whitegrid\")\n",
    "listClassification = [test_semantic_smell, issue_in_test_step, code_related, test_execution, dependencies]\n",
    "\n",
    "for a in listClassification:\n",
    "    plt.figure(figsize=(10,6))\n",
    "    ax1 = sns.lineplot(data=a.set_index('Year'), linewidth=2.5 ,x='Year', y='Amount',hue='Test_Smell_Type', dashes=False)\n",
    "    plt.legend(bbox_to_anchor=(1.12, 1), loc='upper left', borderaxespad=0)\n",
    "    ax2 = ax1.twinx()\n",
    "    sns.lineplot(data=all_list_hive_total.set_index('Year'),linewidth=2.5 ,x='Year', y='Star', color='green')\n",
    "    plt.title('Total Test Smell by Year', fontsize=16)\n",
    "    plt.xlabel('Year', fontsize=14)\n",
    "    # plt.ylabel('Amount', fontsize=14)\n",
    "    plt.show()"
   ],
   "metadata": {
    "collapsed": false
   }
  },
  {
   "cell_type": "markdown",
   "source": [
    "## Most discuss until 2018"
   ],
   "metadata": {
    "collapsed": false
   }
  },
  {
   "cell_type": "code",
   "execution_count": null,
   "outputs": [],
   "source": [
    "most_discuss = ['Assertion Roulette', 'Eager Test', 'General Fixture', 'Mystery Guest', 'Redundant Print', 'Redundant Assertion']\n",
    "most_discuss = all_list_hive_total[~all_list_hive_total.Test_Smell_Type.str.contains('|'.join(most_discuss)) == False]"
   ],
   "metadata": {
    "collapsed": false
   }
  },
  {
   "cell_type": "code",
   "execution_count": null,
   "outputs": [],
   "source": [
    "sns.set_style(\"whitegrid\")\n",
    "\n",
    "plt.figure(figsize=(10,6))\n",
    "ax1 = sns.lineplot(data=most_discuss.set_index('Year'), linewidth=2.5 ,x='Year', y='Amount',hue='Test_Smell_Type', dashes=False)\n",
    "plt.legend(bbox_to_anchor=(1.12, 1), loc='upper left', borderaxespad=0)\n",
    "ax2 = ax1.twinx()\n",
    "sns.lineplot(data=all_list_hive_total.set_index('Year'),linewidth=2.5 ,x='Year', y='Star', color='green')\n",
    "plt.title('Test Smell density by Year', fontsize=16)\n",
    "plt.xlabel('Year', fontsize=14)\n",
    "# plt.ylabel('Amount', fontsize=14)\n",
    "plt.show()"
   ],
   "metadata": {
    "collapsed": false
   }
  },
  {
   "cell_type": "code",
   "execution_count": null,
   "outputs": [],
   "source": [
    "sns.set_style(\"whitegrid\")\n",
    "plt.figure(figsize=(10,6))\n",
    "\n",
    "data = all_list_hive_total[(all_list_hive_total != 0).all(1)]\n",
    "\n",
    "sns.kdeplot(data=data, x='Amount', y='Test_Method_Total', hue='Test_Smell_Type')\n",
    "# plt.legend(loc='center right', title='test smell type',fontsize=\"x-large\", bbox_to_anchor=(1.2, 0.5))\n",
    "plt.show()\n",
    "data\n",
    "# datanew = all_list_hive_total[(all_list_hive_total != 0).all(1)]\n",
    "# datanew"
   ],
   "metadata": {
    "collapsed": false
   }
  },
  {
   "cell_type": "code",
   "execution_count": null,
   "outputs": [],
   "source": [
    "\n",
    "# Create a scatter plot with Test_Smell_Total and Test_Method_Total\n",
    "sns.set_style('white')\n",
    "sns.scatterplot(x='Test_Smell_Total', y='Test_Method_Total', data=all_list_hive_total, alpha=0.5)\n",
    "\n",
    "# Create a heatmap to show density in each year\n",
    "sns.kdeplot(x='Test_Smell_Total', y='Test_Method_Total',  data=all_list_hive_total, cmap=\"Reds\", shade=True, shade_lowest=False)\n",
    "\n",
    "# Add labels and title\n",
    "plt.xlabel('Test Smell Total')\n",
    "plt.ylabel('Test Method Total')\n",
    "plt.title('Density Plot of Test Smell Total vs. Test Method Total by Year')\n",
    "\n",
    "plt.show()"
   ],
   "metadata": {
    "collapsed": false
   }
  },
  {
   "cell_type": "code",
   "execution_count": null,
   "outputs": [],
   "source": [
    "sns.jointplot(data=all_list_hive_total, x=\"Test_Method_Total\", y=\"Test_Smell_Total\", kind=\"kde\", fill=True)"
   ],
   "metadata": {
    "collapsed": false
   }
  },
  {
   "cell_type": "code",
   "execution_count": null,
   "outputs": [],
   "source": [
    "sns.scatterplot(data=all_list_hive_total, x='Test_Method_Total', y='Test_Smell_Total', size='Density_test_smell', hue='Year')\n",
    "plt.legend(bbox_to_anchor=(1.12, 1), loc='upper left', borderaxespad=0)\n"
   ],
   "metadata": {
    "collapsed": false
   }
  },
  {
   "cell_type": "code",
   "execution_count": null,
   "outputs": [],
   "source": [
    "# Group the data by Test Smell Type and sum the Amount column\n",
    "grouped = all_list_hive_total.groupby('Year')\n",
    "\n",
    "for year, data in grouped:\n",
    "    # Get the sum of each test smell type for the current year\n",
    "    sums = data.groupby('Test_Smell_Type')['Amount'].sum()\n",
    "\n",
    "    # Create the pie chart\n",
    "    colors = sns.color_palette(\"husl\", 19)\n",
    "    plt.pie(sums, autopct='%1.1f%%', radius=1.5, colors=colors)\n",
    "    plt.legend(sums.index, loc=\"upper right\",bbox_to_anchor=(2, 1), title=f'Test Smells in {year}')\n",
    "    plt.show()"
   ],
   "metadata": {
    "collapsed": false
   }
  },
  {
   "cell_type": "code",
   "execution_count": null,
   "outputs": [],
   "source": [
    "def test_smell_show_inEachClass(column):\n",
    "    plt.figure(figsize=(10,5))\n",
    "    g = sns.scatterplot(data=hive_2015, x=\"TestClass\", y=column)\n",
    "    g.set_xticklabels(g.get_xticklabels(),rotation=90)\n",
    "    plt.show()"
   ],
   "metadata": {
    "collapsed": false
   }
  },
  {
   "cell_type": "code",
   "execution_count": null,
   "outputs": [],
   "source": [
    "pivot_table = pd.pivot_table(all_list_hive_total, values='Amount', index=['Test_Smell_Type'], columns=['Year'], aggfunc='mean')\n",
    "pivot_table"
   ],
   "metadata": {
    "collapsed": false
   }
  },
  {
   "cell_type": "code",
   "execution_count": null,
   "outputs": [],
   "source": [
    "g = sns.pairplot(data=all_list_hive_total, hue='Test_Smell_Type', x_vars=['Year'], y_vars=['Amount'], height=5)\n",
    "for ax in g.axes.flatten():\n",
    "    ax.set_xticklabels(ax.get_xticklabels(), rotation=45)\n",
    "plt.show()\n"
   ],
   "metadata": {
    "collapsed": false
   }
  },
  {
   "cell_type": "markdown",
   "source": [
    "From graph pairplot above, You will see the Case that are always high is ***Magic Number*** and ***Exception Catching Throwing*** Seem like they won't try to fix those Test_Smell at all. At the hive project its seem like stable, but in the cassandar trend on those test smell is slightly high in each year(2018 look like they change all the code or migrate to use Junit5)"
   ],
   "metadata": {
    "collapsed": false
   }
  },
  {
   "cell_type": "code",
   "execution_count": null,
   "outputs": [],
   "source": [
    "sns.heatmap(pivot_table, cmap='coolwarm')"
   ],
   "metadata": {
    "collapsed": false
   }
  },
  {
   "cell_type": "markdown",
   "source": [
    "For this heatmap we change the style of graph to investigate more trend of this data. **In Hive project**, You can see the test smell are not decrease from year to year at all, **same as the cassandar** too."
   ],
   "metadata": {
    "collapsed": false
   }
  },
  {
   "cell_type": "code",
   "execution_count": null,
   "outputs": [],
   "source": [
    "sns.set_style(\"darkgrid\")\n",
    "\n",
    "plt.figure(figsize=(10,6))\n",
    "sns.lineplot(data=all_list_hive_total, x=\"Year\", y=\"Amount\", hue=\"Test_Smell_Type\", linewidth=2.5, palette=\"bright\")\n",
    "plt.title(\"Test Smell Types by Year\", fontsize=16)\n",
    "plt.xlabel(\"Year\", fontsize=14)\n",
    "plt.ylabel(\"Amount\", fontsize=14)\n",
    "plt.xticks(fontsize=12)\n",
    "plt.yticks(fontsize=12)\n",
    "plt.legend(bbox_to_anchor=(1.02, 1), loc='upper left', borderaxespad=0)\n",
    "plt.show()"
   ],
   "metadata": {
    "collapsed": false
   }
  },
  {
   "cell_type": "code",
   "execution_count": null,
   "outputs": [],
   "source": [
    "feature = ['NumberOfMethods', 'Assertion Roulette',\n",
    "       'Conditional Test Logic', 'Constructor Initialization', 'Default Test',\n",
    "       'EmptyTest', 'Exception Catching Throwing', 'General Fixture',\n",
    "       'Mystery Guest', 'Print Statement', 'Redundant Assertion',\n",
    "       'Sensitive Equality', 'Verbose Test', 'Sleepy Test', 'Eager Test',\n",
    "       'Lazy Test', 'Duplicate Assert', 'Unknown Test', 'IgnoredTest',\n",
    "       'Resource Optimism', 'Magic Number Test', 'Dependent Test']\n",
    "list(enumerate(feature))"
   ],
   "metadata": {
    "collapsed": false
   }
  },
  {
   "cell_type": "code",
   "execution_count": null,
   "outputs": [],
   "source": [
    "for i in enumerate(feature):\n",
    "    test_smell_show_inEachClass(i[1])"
   ],
   "metadata": {
    "collapsed": false
   }
  },
  {
   "cell_type": "code",
   "execution_count": null,
   "outputs": [],
   "source": [
    "plt.figure(figsize=(10, 7))\n",
    "g = sns.FacetGrid(all_list_hive_total, col=\"Year\")\n",
    "g.map(sns.scatterplot, 'Test_Smell', 'Amount')\n",
    "for axes in g.axes.flat:\n",
    "    _ = axes.set_xticklabels(axes.get_xticklabels(), rotation=90)"
   ],
   "metadata": {
    "collapsed": false
   }
  },
  {
   "cell_type": "code",
   "execution_count": null,
   "outputs": [],
   "source": [
    "plt.figure(figsize= (15,30))\n",
    "for i in enumerate(feature):\n",
    "    sns.relplot(data=all_list_hive_total, x='Year', y=i[1])"
   ],
   "metadata": {
    "collapsed": false
   }
  }
 ],
 "metadata": {
  "kernelspec": {
   "display_name": "Python 3",
   "language": "python",
   "name": "python3"
  },
  "language_info": {
   "codemirror_mode": {
    "name": "ipython",
    "version": 2
   },
   "file_extension": ".py",
   "mimetype": "text/x-python",
   "name": "python",
   "nbconvert_exporter": "python",
   "pygments_lexer": "ipython2",
   "version": "2.7.6"
  }
 },
 "nbformat": 4,
 "nbformat_minor": 0
}
