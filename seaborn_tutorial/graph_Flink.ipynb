{
 "cells": [
  {
   "cell_type": "code",
   "execution_count": null,
   "metadata": {
    "collapsed": true
   },
   "outputs": [],
   "source": [
    "import seaborn as sns\n",
    "import pandas as pd\n",
    "import os\n",
    "from pathlib import Path\n",
    "from matplotlib import pyplot as plt\n",
    "import itertools\n"
   ]
  },
  {
   "cell_type": "code",
   "execution_count": null,
   "outputs": [],
   "source": [
    "resources = Path(os.path.abspath('../resources'))\n",
    "cassanda_path = Path(os.path.abspath('../resources/cassanda'))\n",
    "hive_path = Path(os.path.abspath('../resources/hive'))\n",
    "Flink_path = Path(os.path.abspath('../resources/flink'))\n",
    "\n",
    "print(resources)\n",
    "print(cassanda_path)\n",
    "print(hive_path)\n",
    "print(Flink_path)"
   ],
   "metadata": {
    "collapsed": false
   }
  },
  {
   "cell_type": "code",
   "execution_count": null,
   "outputs": [],
   "source": [
    "hive_2015 = pd.read_csv(Flink_path/'Output_Flink_2015Nov02_1678026956782.csv')\n",
    "hive_2016 = pd.read_csv(Flink_path/'Output_Flink_2016Jul19_1678028466687.csv')\n",
    "hive_2017 = pd.read_csv(Flink_path/'Output_Flink_2017Nov18_1678032841367.csv')\n",
    "hive_2018 = pd.read_csv(Flink_path/'Output_Flink_2018Sep11.csv')\n",
    "hive_2019 = pd.read_csv(Flink_path/'Output_Flink_2019Dec8.csv')\n",
    "hive_2015.info()"
   ],
   "metadata": {
    "collapsed": false
   }
  },
  {
   "cell_type": "code",
   "execution_count": null,
   "outputs": [],
   "source": [
    "hive_2015.head(5)"
   ],
   "metadata": {
    "collapsed": false
   }
  },
  {
   "cell_type": "code",
   "execution_count": null,
   "outputs": [],
   "source": [
    "test_semantic_smell = ['Assertion Roulette','Conditional Test Logic','Duplicate Assert']\n",
    "issue_in_test_step = ['Exception Catching Throwing', 'General Fixture', 'EmptyTest', 'Redundant Assertion', 'Unknown Test', 'Constructor Initialization']\n",
    "code_related = ['Magic Number Test', 'Print Statement', 'IgnoredTest', 'Verbose Test']\n",
    "dependencies = ['Mystery Guest', 'Resource Optimism']\n",
    "test_execution = ['Sensitive Equality', 'Sleepy Test', 'Sensitive Equality']\n",
    "hive_2015.head(5)"
   ],
   "metadata": {
    "collapsed": false
   }
  },
  {
   "cell_type": "code",
   "execution_count": null,
   "outputs": [],
   "source": [
    "def clean_data(df_input: pd, wanted_test_smell: list, classification_test_smell: str, year: int):\n",
    "    result_df = pd.DataFrame(columns=['Test_Smell_Classification_Type', 'Test_Smell', 'Number_Of_Test_Class','Total_Of_Test_Class', 'List_Of_Test_Class',  'Number_Of_Test_Smell', 'Total_Of_Test_Smell', 'Year'])\n",
    "    df_input = df_input.dropna(axis='columns')\n",
    "    test_smell_df = df_input.loc[:, 'Assertion Roulette':'Dependent Test']\n",
    "    test_smell_df['TestClass'] = df_input['TestClass']\n",
    "\n",
    "    for column in wanted_test_smell:\n",
    "        test_smell = pd.DataFrame({'Test_Smell': [column]})\n",
    "        temp_test_class = test_smell_df.loc[test_smell_df[column] > 0, 'TestClass'].tolist()\n",
    "        list_of_test_class = pd.DataFrame({'List_Of_Test_Class': [temp_test_class]})\n",
    "        number_of_test_class = pd.DataFrame({'Number_Of_Test_Class': [len(temp_test_class)]})\n",
    "        Number_Of_Test_Smell = pd.DataFrame({'Number_Of_Test_Smell': [test_smell_df[column].sum()]})\n",
    "        temp_list = pd.concat([test_smell, list_of_test_class, number_of_test_class, Number_Of_Test_Smell], axis=1)\n",
    "        result_df = pd.concat([result_df,temp_list])\n",
    "\n",
    "    result_df['Total_Of_Test_Class'] = len(list(dict.fromkeys(list(itertools.chain.from_iterable(result_df['List_Of_Test_Class'].tolist())))))\n",
    "    result_df['Test_Smell_Classification_Type'] = classification_test_smell\n",
    "    result_df['Year'] = year\n",
    "    result_df['Total_Of_Test_Smell'] = result_df['Number_Of_Test_Smell'].sum()\n",
    "\n",
    "    return result_df"
   ],
   "metadata": {
    "collapsed": false
   }
  },
  {
   "cell_type": "code",
   "execution_count": null,
   "outputs": [],
   "source": [
    "#2015\n",
    "test_semantic_smell_2015 = clean_data(hive_2015, test_semantic_smell, 'test_semantic_smell', 2015)\n",
    "issue_in_test_step_2015 = clean_data(hive_2015, issue_in_test_step, 'issue_in_test_step', 2015)\n",
    "code_related_2015 = clean_data(hive_2015, code_related, 'code_related', 2015)\n",
    "dependencies_2015 = clean_data(hive_2015, dependencies, 'dependencies', 2015)\n",
    "test_execution_2015 = clean_data(hive_2015, test_execution, 'test_execution', 2015)\n",
    "classification_2015 = [test_semantic_smell_2015, issue_in_test_step_2015, code_related_2015, dependencies_2015, test_execution_2015]\n",
    "classification_2015 = pd.concat(classification_2015).reset_index(drop=True)\n",
    "#2016\n",
    "test_semantic_smell_2016 = clean_data(hive_2016, test_semantic_smell, 'test_semantic_smell', 2016)\n",
    "issue_in_test_step_2016 = clean_data(hive_2016, issue_in_test_step, 'issue_in_test_step', 2016)\n",
    "code_related_2016 = clean_data(hive_2016, code_related, 'code_related', 2016)\n",
    "dependencies_2016 = clean_data(hive_2016, dependencies, 'dependencies', 2016)\n",
    "test_execution_2016 = clean_data(hive_2016, test_execution, 'test_execution', 2016)\n",
    "classification_2016 = [test_semantic_smell_2016, issue_in_test_step_2016, code_related_2016, dependencies_2016, test_execution_2016]\n",
    "classification_2016 = pd.concat(classification_2016).reset_index(drop=True)\n",
    "#2017\n",
    "test_semantic_smell_2017 = clean_data(hive_2017, test_semantic_smell, 'test_semantic_smell', 2017)\n",
    "issue_in_test_step_2017 = clean_data(hive_2017, issue_in_test_step, 'issue_in_test_step', 2017)\n",
    "code_related_2017 = clean_data(hive_2017, code_related, 'code_related', 2017)\n",
    "dependencies_2017 = clean_data(hive_2017, dependencies, 'dependencies', 2017)\n",
    "test_execution_2017 = clean_data(hive_2017, test_execution, 'test_execution', 2017)\n",
    "classification_2017 = [test_semantic_smell_2017, issue_in_test_step_2017, code_related_2017, dependencies_2017, test_execution_2017]\n",
    "classification_2017 = pd.concat(classification_2017).reset_index(drop=True)\n",
    "#2018\n",
    "test_semantic_smell_2018 = clean_data(hive_2018, test_semantic_smell, 'test_semantic_smell', 2018)\n",
    "issue_in_test_step_2018 = clean_data(hive_2018, issue_in_test_step, 'issue_in_test_step', 2018)\n",
    "code_related_2018 = clean_data(hive_2018, code_related, 'code_related', 2018)\n",
    "dependencies_2018 = clean_data(hive_2018, dependencies, 'dependencies', 2018)\n",
    "test_execution_2018 = clean_data(hive_2018, test_execution, 'test_execution', 2018)\n",
    "classification_2018 = [test_semantic_smell_2018, issue_in_test_step_2018, code_related_2018, dependencies_2018, test_execution_2018]\n",
    "classification_2018 = pd.concat(classification_2018).reset_index(drop=True)\n",
    "#2019\n",
    "test_semantic_smell_2019 = clean_data(hive_2019, test_semantic_smell, 'test_semantic_smell', 2019)\n",
    "issue_in_test_step_2019 = clean_data(hive_2019, issue_in_test_step, 'issue_in_test_step', 2019)\n",
    "code_related_2019 = clean_data(hive_2019, code_related, 'code_related', 2019)\n",
    "dependencies_2019 = clean_data(hive_2019, dependencies, 'dependencies', 2019)\n",
    "test_execution_2019 = clean_data(hive_2019, test_execution, 'test_execution', 2019)\n",
    "classification_2019 = [test_semantic_smell_2019, issue_in_test_step_2019, code_related_2019, dependencies_2019, test_execution_2019]\n",
    "classification_2019 = pd.concat(classification_2019).reset_index(drop=True)\n",
    "\n",
    "classification_all = [classification_2015, classification_2016, classification_2017, classification_2018, classification_2019]\n",
    "classification_all = pd.concat(classification_all).reset_index(drop=True)"
   ],
   "metadata": {
    "collapsed": false
   }
  },
  {
   "cell_type": "code",
   "execution_count": 45,
   "outputs": [
    {
     "data": {
      "text/plain": "   Test_Smell_Classification_Type                   Test_Smell  \\\n0             test_semantic_smell           Assertion Roulette   \n1             test_semantic_smell       Conditional Test Logic   \n2             test_semantic_smell             Duplicate Assert   \n3              issue_in_test_step  Exception Catching Throwing   \n4              issue_in_test_step              General Fixture   \n..                            ...                          ...   \n85                   dependencies                Mystery Guest   \n86                   dependencies            Resource Optimism   \n87                 test_execution           Sensitive Equality   \n88                 test_execution                  Sleepy Test   \n89                 test_execution           Sensitive Equality   \n\n   Number_Of_Test_Class  Total_Of_Test_Class  \\\n0                   406                  511   \n1                   279                  511   \n2                   166                  511   \n3                   590                  618   \n4                    20                  618   \n..                  ...                  ...   \n85                  102                  134   \n86                  131                  134   \n87                   89                  147   \n88                   65                  147   \n89                   89                  147   \n\n                                   List_Of_Test_Class Number_Of_Test_Smell  \\\n0   [ExecutionPlanCreationTest.java, ClientTest.ja...                 1321   \n1   [CliFrontendPackageProgramTest.java, SimpleTwe...                  698   \n2   [CliFrontendRunTest.java, CliFrontendListCance...                  442   \n3   [ExecutionPlanCreationTest.java, ClientConnect...                 2376   \n4   [ClientTest.java, IncrementalSSSPITCase.java, ...                   70   \n..                                                ...                  ...   \n85  [CliFrontendSavepointTest.java, PackagedProgra...                  267   \n86  [CliFrontendSavepointTest.java, PackagedProgra...                  322   \n87  [CliFrontendSavepointTest.java, CliFrontendInf...                  159   \n88  [CassandraSinkBaseTest.java, ElasticsearchSink...                  109   \n89  [CliFrontendSavepointTest.java, CliFrontendInf...                  159   \n\n    Total_Of_Test_Smell  Year  \n0                  2461  2015  \n1                  2461  2015  \n2                  2461  2015  \n3                  3373  2015  \n4                  3373  2015  \n..                  ...   ...  \n85                  589  2019  \n86                  589  2019  \n87                  427  2019  \n88                  427  2019  \n89                  427  2019  \n\n[90 rows x 8 columns]",
      "text/html": "<div>\n<style scoped>\n    .dataframe tbody tr th:only-of-type {\n        vertical-align: middle;\n    }\n\n    .dataframe tbody tr th {\n        vertical-align: top;\n    }\n\n    .dataframe thead th {\n        text-align: right;\n    }\n</style>\n<table border=\"1\" class=\"dataframe\">\n  <thead>\n    <tr style=\"text-align: right;\">\n      <th></th>\n      <th>Test_Smell_Classification_Type</th>\n      <th>Test_Smell</th>\n      <th>Number_Of_Test_Class</th>\n      <th>Total_Of_Test_Class</th>\n      <th>List_Of_Test_Class</th>\n      <th>Number_Of_Test_Smell</th>\n      <th>Total_Of_Test_Smell</th>\n      <th>Year</th>\n    </tr>\n  </thead>\n  <tbody>\n    <tr>\n      <th>0</th>\n      <td>test_semantic_smell</td>\n      <td>Assertion Roulette</td>\n      <td>406</td>\n      <td>511</td>\n      <td>[ExecutionPlanCreationTest.java, ClientTest.ja...</td>\n      <td>1321</td>\n      <td>2461</td>\n      <td>2015</td>\n    </tr>\n    <tr>\n      <th>1</th>\n      <td>test_semantic_smell</td>\n      <td>Conditional Test Logic</td>\n      <td>279</td>\n      <td>511</td>\n      <td>[CliFrontendPackageProgramTest.java, SimpleTwe...</td>\n      <td>698</td>\n      <td>2461</td>\n      <td>2015</td>\n    </tr>\n    <tr>\n      <th>2</th>\n      <td>test_semantic_smell</td>\n      <td>Duplicate Assert</td>\n      <td>166</td>\n      <td>511</td>\n      <td>[CliFrontendRunTest.java, CliFrontendListCance...</td>\n      <td>442</td>\n      <td>2461</td>\n      <td>2015</td>\n    </tr>\n    <tr>\n      <th>3</th>\n      <td>issue_in_test_step</td>\n      <td>Exception Catching Throwing</td>\n      <td>590</td>\n      <td>618</td>\n      <td>[ExecutionPlanCreationTest.java, ClientConnect...</td>\n      <td>2376</td>\n      <td>3373</td>\n      <td>2015</td>\n    </tr>\n    <tr>\n      <th>4</th>\n      <td>issue_in_test_step</td>\n      <td>General Fixture</td>\n      <td>20</td>\n      <td>618</td>\n      <td>[ClientTest.java, IncrementalSSSPITCase.java, ...</td>\n      <td>70</td>\n      <td>3373</td>\n      <td>2015</td>\n    </tr>\n    <tr>\n      <th>...</th>\n      <td>...</td>\n      <td>...</td>\n      <td>...</td>\n      <td>...</td>\n      <td>...</td>\n      <td>...</td>\n      <td>...</td>\n      <td>...</td>\n    </tr>\n    <tr>\n      <th>85</th>\n      <td>dependencies</td>\n      <td>Mystery Guest</td>\n      <td>102</td>\n      <td>134</td>\n      <td>[CliFrontendSavepointTest.java, PackagedProgra...</td>\n      <td>267</td>\n      <td>589</td>\n      <td>2019</td>\n    </tr>\n    <tr>\n      <th>86</th>\n      <td>dependencies</td>\n      <td>Resource Optimism</td>\n      <td>131</td>\n      <td>134</td>\n      <td>[CliFrontendSavepointTest.java, PackagedProgra...</td>\n      <td>322</td>\n      <td>589</td>\n      <td>2019</td>\n    </tr>\n    <tr>\n      <th>87</th>\n      <td>test_execution</td>\n      <td>Sensitive Equality</td>\n      <td>89</td>\n      <td>147</td>\n      <td>[CliFrontendSavepointTest.java, CliFrontendInf...</td>\n      <td>159</td>\n      <td>427</td>\n      <td>2019</td>\n    </tr>\n    <tr>\n      <th>88</th>\n      <td>test_execution</td>\n      <td>Sleepy Test</td>\n      <td>65</td>\n      <td>147</td>\n      <td>[CassandraSinkBaseTest.java, ElasticsearchSink...</td>\n      <td>109</td>\n      <td>427</td>\n      <td>2019</td>\n    </tr>\n    <tr>\n      <th>89</th>\n      <td>test_execution</td>\n      <td>Sensitive Equality</td>\n      <td>89</td>\n      <td>147</td>\n      <td>[CliFrontendSavepointTest.java, CliFrontendInf...</td>\n      <td>159</td>\n      <td>427</td>\n      <td>2019</td>\n    </tr>\n  </tbody>\n</table>\n<p>90 rows × 8 columns</p>\n</div>"
     },
     "execution_count": 45,
     "metadata": {},
     "output_type": "execute_result"
    }
   ],
   "source": [
    "classification_all"
   ],
   "metadata": {
    "collapsed": false
   }
  },
  {
   "cell_type": "code",
   "execution_count": null,
   "outputs": [],
   "source": [
    "test_hive = hive_2015.dropna(axis='columns')\n",
    "df = test_hive.loc[:, 'NumberOfMethods':'Dependent Test']\n",
    "total =  df.sum()\n",
    "total = pd.Series(total)\n",
    "frame = {'Amount': total, 'Year': 2015}\n",
    "result = pd.DataFrame(frame)\n",
    "result.reset_index(inplace=True)\n",
    "result = result.rename(columns={'index': 'Test_Smell'}, errors='raise')\n",
    "result"
   ],
   "metadata": {
    "collapsed": false
   }
  },
  {
   "cell_type": "code",
   "execution_count": null,
   "outputs": [],
   "source": [
    "def total_test_smell(dataframe : pd.DataFrame, year):\n",
    "    dataframe = dataframe.dropna(axis='columns')\n",
    "    df = dataframe.loc[:, 'Assertion Roulette':'Dependent Test']\n",
    "    total =  df.sum()\n",
    "    total = pd.Series(total)\n",
    "    frame = {'Amount': total, 'Year': year}\n",
    "    result = pd.DataFrame(frame)\n",
    "    result.reset_index(inplace=True)\n",
    "    result = result.rename(columns={'index': 'Test_Smell_Type'}, errors='raise')\n",
    "    result['Test_Smell_Total'] = result['Amount'].sum()\n",
    "    return result"
   ],
   "metadata": {
    "collapsed": false
   }
  },
  {
   "cell_type": "code",
   "execution_count": null,
   "outputs": [],
   "source": [
    "def total_test_method(dataframe : pd.DataFrame, year):\n",
    "    dataframe = dataframe.dropna(axis='columns')\n",
    "    df = dataframe.loc[:, 'NumberOfMethods':'Dependent Test']\n",
    "    total =  df.sum()\n",
    "    total = pd.Series(total)\n",
    "    frame = {'Amount': total, 'Year': year}\n",
    "    result = pd.DataFrame(frame)\n",
    "    result.reset_index(inplace=True)\n",
    "    result = result.rename(columns={'index': 'Test_Smell_Type'}, errors='raise')\n",
    "    return result"
   ],
   "metadata": {
    "collapsed": false
   }
  },
  {
   "cell_type": "code",
   "execution_count": null,
   "outputs": [],
   "source": [
    "testsmell2015 = total_test_method(hive_2015, 2015)\n",
    "testsmell2016 = total_test_method(hive_2016, 2016)\n",
    "testsmell2017 = total_test_method(hive_2017, 2017)\n",
    "testsmell2018 = total_test_method(hive_2018, 2018)\n",
    "testsmell2019 = total_test_method(hive_2019, 2019)\n",
    "all = [testsmell2015,testsmell2016,testsmell2017,testsmell2018,testsmell2019]\n",
    "df = pd.concat(all, axis=0)\n",
    "df = df.loc[df['Test_Smell_Type'] == 'NumberOfMethods']\n",
    "df = df.rename(columns={'Test_Smell_Type': 'Test_Method', 'Amount': 'Test_Method_Total'})\n",
    "df = df.drop(['Test_Method'], axis=1)\n",
    "df\n",
    "# sns.barplot(x='Year', y='Amount', hue='Test_Smell_Type', data=df)"
   ],
   "metadata": {
    "collapsed": false
   }
  },
  {
   "cell_type": "code",
   "execution_count": null,
   "outputs": [],
   "source": [
    "total_hive2015 = total_test_smell(hive_2015, 2015)\n",
    "total_hive2016 = total_test_smell(hive_2016, 2016)\n",
    "total_hive2017 = total_test_smell(hive_2017, 2017)\n",
    "total_hive2018 = total_test_smell(hive_2018, 2018)\n",
    "total_hive2019 = total_test_smell(hive_2019, 2019)\n",
    "all_list_hive = [total_hive2015,total_hive2016,total_hive2017,total_hive2018,total_hive2019]\n",
    "all_list_hive_total = pd.concat(all_list_hive, axis=0)\n",
    "all_list_hive_total = all_list_hive_total.reset_index(drop=True)\n",
    "all_list_hive_total = all_list_hive_total.merge(df, on='Year', how='left')\n",
    "all_list_hive_total\n",
    "# all_list_hive_total = all_list_hive_total.rename({0: '2015',1: '2016',2: '2017',3: '2018',4: '2019'}, axis='columns', errors='raise')\n",
    "# all_list_hive_total\n"
   ],
   "metadata": {
    "collapsed": false
   }
  },
  {
   "cell_type": "code",
   "execution_count": null,
   "outputs": [],
   "source": [
    "star_each_year = pd.DataFrame({\n",
    "    'Year':[2015, 2016, 2017, 2018, 2019],\n",
    "    'Star':[630, 1320, 2700, 4110, 11040]\n",
    "})\n",
    "star_each_year\n",
    "all_list_hive_total = all_list_hive_total.merge(star_each_year, on='Year', how='left')\n",
    "all_list_hive_total"
   ],
   "metadata": {
    "collapsed": false
   }
  },
  {
   "cell_type": "code",
   "execution_count": null,
   "outputs": [],
   "source": [
    "all_list_hive_total['Density_test_smell'] = (all_list_hive_total['Test_Method_Total']/all_list_hive_total['Test_Smell_Total'])\n",
    "all_list_hive_total['Density_each_test_smell'] = (all_list_hive_total['Test_Method_Total']/all_list_hive_total['Amount'])\n",
    "all_list_hive_total.to_csv('/Users/Jumma/github_repo/github_api_extractor/resources/dataframe/flink.csv')\n",
    "all_list_hive_total"
   ],
   "metadata": {
    "collapsed": false
   }
  },
  {
   "cell_type": "code",
   "execution_count": null,
   "outputs": [],
   "source": [
    "# create line chart with star\n",
    "sns.set_style(\"whitegrid\")\n",
    "plt.figure(figsize=(10,6))\n",
    "sns.lineplot(data=all_list_hive_total.set_index('Year').drop(['Amount','Density_test_smell'], axis=1), linewidth=2.5, dashes=False)\n",
    "plt.title('Total Number of Test Smells and Test Methods by Year', fontsize=16)\n",
    "plt.xlabel('Year', fontsize=14)\n",
    "plt.ylabel('Amount', fontsize=14)\n",
    "plt.show()"
   ],
   "metadata": {
    "collapsed": false
   }
  },
  {
   "cell_type": "code",
   "execution_count": null,
   "outputs": [],
   "source": [
    "# create line chart with star\n",
    "sns.set_style(\"whitegrid\")\n",
    "plt.figure(figsize=(10,6))\n",
    "ax1 = sns.lineplot(data=all_list_hive_total.set_index('Year'), linewidth=2.5 ,x='Year', y='Amount',hue='Test_Smell_Type', dashes=False)\n",
    "plt.legend(bbox_to_anchor=(1.12, 1), loc='upper left', borderaxespad=0)\n",
    "ax2 = ax1.twinx()\n",
    "sns.lineplot(data=all_list_hive_total.set_index('Year'),linewidth=2.5 ,x='Year', y='Star', color='green')\n",
    "plt.title('Test Smell Types by Year', fontsize=16)\n",
    "plt.xlabel('Year', fontsize=14)\n",
    "# plt.ylabel('Amount', fontsize=14)\n",
    "\n",
    "\n",
    "plt.show()"
   ],
   "metadata": {
    "collapsed": false
   }
  },
  {
   "cell_type": "code",
   "execution_count": null,
   "outputs": [],
   "source": [
    "test_semantic_smell = ['Assertion Roulette','Conditional Test Logic','Duplicate Assert', 'Eager Test', 'Lazy Test']\n",
    "test_semantic_smell = all_list_hive_total[~all_list_hive_total.Test_Smell_Type.str.contains('|'.join(test_semantic_smell)) == False]\n",
    "test_semantic_smell['Classification'] = 'test semantic'\n",
    "temp = test_semantic_smell.groupby('Year')['Amount'].sum()\n",
    "test_semantic_smell = test_semantic_smell.merge(temp.rename('Classification_Test_Smell_Total'), left_on='Year', right_on='Year')\n",
    "issue_in_test_step = ['Exception Handling', 'General Fixture', 'Empty Test', 'Redundant Assertion', 'Unknown Test']\n",
    "issue_in_test_step = all_list_hive_total[~all_list_hive_total.Test_Smell_Type.str.contains('|'.join(issue_in_test_step)) == False]\n",
    "issue_in_test_step['Classification'] = 'issue in test step'\n",
    "temp = issue_in_test_step.groupby('Year')['Amount'].sum()\n",
    "issue_in_test_step = issue_in_test_step.merge(temp.rename('Classification_Test_Smell_Total'), left_on='Year', right_on='Year')\n",
    "code_related = ['Magic Number Test', 'Redundant Print', 'Ignored Test']\n",
    "code_related = all_list_hive_total[~all_list_hive_total.Test_Smell_Type.str.contains('|'.join(code_related)) == False]\n",
    "code_related['Classification'] = 'code related'\n",
    "temp = code_related.groupby('Year')['Amount'].sum()\n",
    "code_related = code_related.merge(temp.rename('Classification_Test_Smell_Total'), left_on='Year', right_on='Year')\n",
    "test_execution = ['Sensitive Equality', 'Sleepy Test']\n",
    "test_execution = all_list_hive_total[~all_list_hive_total.Test_Smell_Type.str.contains('|'.join(test_execution)) == False]\n",
    "test_execution['Classification'] = 'test execution'\n",
    "temp = test_execution.groupby('Year')['Amount'].sum()\n",
    "test_execution = test_execution.merge(temp.rename('Classification_Test_Smell_Total'), left_on='Year', right_on='Year')\n",
    "dependencies = ['Mystery Guest', 'Resource Optimism']\n",
    "dependencies = all_list_hive_total[~all_list_hive_total.Test_Smell_Type.str.contains('|'.join(dependencies)) == False]\n",
    "dependencies['Classification'] = 'dependencies'\n",
    "temp = dependencies.groupby('Year')['Amount'].sum()\n",
    "dependencies = dependencies.merge(temp.rename('Classification_Test_Smell_Total'), left_on='Year', right_on='Year')\n",
    "list_Classification = [test_semantic_smell, issue_in_test_step, code_related, test_execution, dependencies]\n",
    "list_Classification = pd.concat(list_Classification)\n",
    "list_Classification = list_Classification.reset_index(drop=True)\n",
    "list_Classification\n",
    "# list_classification = ['test semantic', 'issue in test step', 'code related', 'test execution', 'dependencies']"
   ],
   "metadata": {
    "collapsed": false
   }
  },
  {
   "cell_type": "code",
   "execution_count": null,
   "outputs": [],
   "source": [
    "sns.set_style(\"whitegrid\")\n",
    "plt.figure(figsize=(10,6))\n",
    "ax1 = sns.lineplot(data=list_Classification.set_index('Year'), linewidth=2.5 ,x='Year', y='Classification_Test_Smell_Total' ,hue='Classification', dashes=False)\n",
    "plt.legend(bbox_to_anchor=(1.12, 1), loc='upper left', borderaxespad=0)\n",
    "ax2 = ax1.twinx()\n",
    "sns.lineplot(data=all_list_hive_total.set_index('Year'),linewidth=2.5 ,x='Year', y='Star', color='gray')\n",
    "plt.title('Classification test smell total by year, flink', fontsize=16)\n",
    "plt.xlabel('Year', fontsize=14)\n",
    "# plt.ylabel('Amount', fontsize=14)\n",
    "\n",
    "plt.show()"
   ],
   "metadata": {
    "collapsed": false
   }
  },
  {
   "cell_type": "code",
   "execution_count": null,
   "outputs": [],
   "source": [
    "test_semantic_smell = ['Assertion Roulette','Conditional Test Logic','Duplicate Assert', 'Eager Test', 'Lazy Test']\n",
    "test_semantic_smell = all_list_hive_total[~all_list_hive_total.Test_Smell_Type.str.contains('|'.join(test_semantic_smell)) == False]\n",
    "issue_in_test_step = ['Exception Handling', 'General Fixture']\n",
    "issue_in_test_step = all_list_hive_total[~all_list_hive_total.Test_Smell_Type.str.contains('|'.join(issue_in_test_step)) == False]\n",
    "code_related = ['Magic Number Test', 'Redundant Print', 'Redundant Assertion']\n",
    "code_related = all_list_hive_total[~all_list_hive_total.Test_Smell_Type.str.contains('|'.join(code_related)) == False]\n",
    "test_execution = ['Sensitive Equality', 'Sleepy Test']\n",
    "test_execution = all_list_hive_total[~all_list_hive_total.Test_Smell_Type.str.contains('|'.join(test_execution)) == False]\n",
    "\n",
    "listClassification = [test_semantic_smell, issue_in_test_step, code_related, test_execution]"
   ],
   "metadata": {
    "collapsed": false
   }
  },
  {
   "cell_type": "code",
   "execution_count": null,
   "outputs": [],
   "source": [
    "sns.set_style(\"whitegrid\")\n",
    "\n",
    "for a in listClassification:\n",
    "    plt.figure(figsize=(10,6))\n",
    "    ax1 = sns.lineplot(data=a.set_index('Year'), linewidth=2.5 ,x='Year', y='Amount',hue='Test_Smell_Type', dashes=False)\n",
    "    plt.legend(bbox_to_anchor=(1.12, 1), loc='upper left', borderaxespad=0)\n",
    "    ax2 = ax1.twinx()\n",
    "    sns.lineplot(data=all_list_hive_total.set_index('Year'),linewidth=2.5 ,x='Year', y='Star', color='green')\n",
    "    plt.title('Test Smell density by Year', fontsize=16)\n",
    "    plt.xlabel('Year', fontsize=14)\n",
    "    # plt.ylabel('Amount', fontsize=14)\n",
    "    plt.show()"
   ],
   "metadata": {
    "collapsed": false
   }
  },
  {
   "cell_type": "markdown",
   "source": [
    "## Most discuss until 2018"
   ],
   "metadata": {
    "collapsed": false
   }
  },
  {
   "cell_type": "code",
   "execution_count": null,
   "outputs": [],
   "source": [
    "most_discuss = ['Assertion Roulette', 'Eager Test', 'General Fixture', 'Mystery Guest', 'Redundant Print', 'Redundant Assertion']\n",
    "most_discuss = all_list_hive_total[~all_list_hive_total.Test_Smell_Type.str.contains('|'.join(most_discuss)) == False]"
   ],
   "metadata": {
    "collapsed": false
   }
  },
  {
   "cell_type": "code",
   "execution_count": null,
   "outputs": [],
   "source": [
    "sns.set_style(\"whitegrid\")\n",
    "\n",
    "plt.figure(figsize=(10,6))\n",
    "ax1 = sns.lineplot(data=most_discuss.set_index('Year'), linewidth=2.5 ,x='Year', y='Amount',hue='Test_Smell_Type', dashes=False)\n",
    "plt.legend(bbox_to_anchor=(1.12, 1), loc='upper left', borderaxespad=0)\n",
    "ax2 = ax1.twinx()\n",
    "sns.lineplot(data=all_list_hive_total.set_index('Year'),linewidth=2.5 ,x='Year', y='Star', color='green')\n",
    "plt.title('Total Test Smell by Year', fontsize=16)\n",
    "plt.xlabel('Year', fontsize=14)\n",
    "# plt.ylabel('Amount', fontsize=14)\n",
    "plt.show()"
   ],
   "metadata": {
    "collapsed": false
   }
  },
  {
   "cell_type": "code",
   "execution_count": null,
   "outputs": [],
   "source": [
    "\n",
    "# Create a scatter plot with Test_Smell_Total and Test_Method_Total\n",
    "sns.set_style('white')\n",
    "sns.scatterplot(x='Test_Smell_Total', y='Test_Method_Total', data=all_list_hive_total, alpha=0.5)\n",
    "\n",
    "# Create a heatmap to show density in each year\n",
    "sns.kdeplot(x='Test_Smell_Total', y='Test_Method_Total', data=all_list_hive_total, cmap=\"Reds\", shade=True, shade_lowest=False)\n",
    "\n",
    "# Add labels and title\n",
    "plt.xlabel('Test Smell Total')\n",
    "plt.ylabel('Test Method Total')\n",
    "plt.title('Density Plot of Test Smell Total vs. Test Method Total by Year')\n",
    "\n",
    "plt.show()"
   ],
   "metadata": {
    "collapsed": false
   }
  },
  {
   "cell_type": "code",
   "execution_count": null,
   "outputs": [],
   "source": [
    "sns.jointplot(data=all_list_hive_total, x=\"Test_Method_Total\", y=\"Test_Smell_Total\", kind=\"kde\", fill=True)"
   ],
   "metadata": {
    "collapsed": false
   }
  },
  {
   "cell_type": "code",
   "execution_count": null,
   "outputs": [],
   "source": [
    "sns.color_palette(\"husl\", 5)\n",
    "sns.scatterplot(data=all_list_hive_total, x='Test_Method_Total', y='Test_Smell_Total', size='Density_test_smell', hue='Year')\n",
    "plt.legend(bbox_to_anchor=(1.12, 1), loc='upper left', borderaxespad=0)\n"
   ],
   "metadata": {
    "collapsed": false
   }
  },
  {
   "cell_type": "code",
   "execution_count": null,
   "outputs": [],
   "source": [
    "# Group the data by Test Smell Type and sum the Amount column\n",
    "grouped = all_list_hive_total.groupby('Year')\n",
    "\n",
    "for year, data in grouped:\n",
    "    # Get the sum of each test smell type for the current year\n",
    "    sums = data.groupby('Test_Smell_Type')['Amount'].sum()\n",
    "\n",
    "    # Create the pie chart\n",
    "    colors = sns.color_palette(\"husl\", 19)\n",
    "    plt.pie(sums, autopct='%1.1f%%', radius=1.5, colors=colors)\n",
    "    plt.legend(sums.index, loc=\"upper right\",bbox_to_anchor=(2, 1), title=f'Test Smells in {year}')\n",
    "    plt.show()\n"
   ],
   "metadata": {
    "collapsed": false
   }
  },
  {
   "cell_type": "code",
   "execution_count": null,
   "outputs": [],
   "source": [
    "def test_smell_show_inEachClass(column):\n",
    "    plt.figure(figsize=(10,5))\n",
    "    g = sns.scatterplot(data=hive_2015, x=\"TestClass\", y=column)\n",
    "    g.set_xticklabels(g.get_xticklabels(),rotation=90)\n",
    "    plt.show()"
   ],
   "metadata": {
    "collapsed": false
   }
  },
  {
   "cell_type": "code",
   "execution_count": null,
   "outputs": [],
   "source": [
    "pivot_table = pd.pivot_table(all_list_hive_total, values='Amount', index=['Test_Smell_Type'], columns=['Year'], aggfunc='mean')\n",
    "pivot_table"
   ],
   "metadata": {
    "collapsed": false
   }
  },
  {
   "cell_type": "code",
   "execution_count": null,
   "outputs": [],
   "source": [
    "g = sns.pairplot(data=all_list_hive_total, hue='Test_Smell_Type', x_vars=['Year'], y_vars=['Amount'], height=5)\n",
    "for ax in g.axes.flatten():\n",
    "    ax.set_xticklabels(ax.get_xticklabels(), rotation=45)\n",
    "plt.show()\n"
   ],
   "metadata": {
    "collapsed": false
   }
  },
  {
   "cell_type": "markdown",
   "source": [
    "From graph pairplot above, You will see the Case that are always high is ***Magic Number*** and ***Exception Catching Throwing*** Seem like they won't try to fix those Test_Smell at all. At the hive project its seem like stable, but in the cassandar trend on those test smell is slightly high in each year(2018 look like they change all the code or migrate to use Junit5)"
   ],
   "metadata": {
    "collapsed": false
   }
  },
  {
   "cell_type": "code",
   "execution_count": null,
   "outputs": [],
   "source": [
    "sns.heatmap(pivot_table, cmap='coolwarm')"
   ],
   "metadata": {
    "collapsed": false
   }
  },
  {
   "cell_type": "markdown",
   "source": [
    "For this heatmap we change the style of graph to investigate more trend of this data. **In Hive project**, You can see the test smell are not decrease from year to year at all, **same as the cassandar** too."
   ],
   "metadata": {
    "collapsed": false
   }
  },
  {
   "cell_type": "code",
   "execution_count": null,
   "outputs": [],
   "source": [
    "sns.set_style(\"darkgrid\")\n",
    "\n",
    "plt.figure(figsize=(10,6))\n",
    "sns.lineplot(data=all_list_hive_total, x=\"Year\", y=\"Amount\", hue=\"Test_Smell_Type\", linewidth=2.5, palette=\"bright\")\n",
    "plt.title(\"Test Smell Types by Year\", fontsize=16)\n",
    "plt.xlabel(\"Year\", fontsize=14)\n",
    "plt.ylabel(\"Amount\", fontsize=14)\n",
    "plt.xticks(fontsize=12)\n",
    "plt.yticks(fontsize=12)\n",
    "plt.legend(bbox_to_anchor=(1.02, 1), loc='upper left', borderaxespad=0)\n",
    "plt.show()"
   ],
   "metadata": {
    "collapsed": false
   }
  },
  {
   "cell_type": "code",
   "execution_count": null,
   "outputs": [],
   "source": [
    "feature = ['NumberOfMethods', 'Assertion Roulette',\n",
    "       'Conditional Test Logic', 'Constructor Initialization', 'Default Test',\n",
    "       'EmptyTest', 'Exception Catching Throwing', 'General Fixture',\n",
    "       'Mystery Guest', 'Print Statement', 'Redundant Assertion',\n",
    "       'Sensitive Equality', 'Verbose Test', 'Sleepy Test', 'Eager Test',\n",
    "       'Lazy Test', 'Duplicate Assert', 'Unknown Test', 'IgnoredTest',\n",
    "       'Resource Optimism', 'Magic Number Test', 'Dependent Test']\n",
    "list(enumerate(feature))"
   ],
   "metadata": {
    "collapsed": false
   }
  },
  {
   "cell_type": "code",
   "execution_count": null,
   "outputs": [],
   "source": [
    "for i in enumerate(feature):\n",
    "    test_smell_show_inEachClass(i[1])"
   ],
   "metadata": {
    "collapsed": false
   }
  },
  {
   "cell_type": "code",
   "execution_count": null,
   "outputs": [],
   "source": [
    "plt.figure(figsize=(10, 7))\n",
    "g = sns.FacetGrid(all_list_hive_total, col=\"Year\")\n",
    "g.map(sns.scatterplot, 'Test_Smell', 'Amount')\n",
    "for axes in g.axes.flat:\n",
    "    _ = axes.set_xticklabels(axes.get_xticklabels(), rotation=90)"
   ],
   "metadata": {
    "collapsed": false
   }
  },
  {
   "cell_type": "code",
   "execution_count": null,
   "outputs": [],
   "source": [
    "plt.figure(figsize= (15,30))\n",
    "for i in enumerate(feature):\n",
    "    sns.relplot(data=all_list_hive_total, x='Year', y=i[1])"
   ],
   "metadata": {
    "collapsed": false
   }
  }
 ],
 "metadata": {
  "kernelspec": {
   "display_name": "Python 3",
   "language": "python",
   "name": "python3"
  },
  "language_info": {
   "codemirror_mode": {
    "name": "ipython",
    "version": 2
   },
   "file_extension": ".py",
   "mimetype": "text/x-python",
   "name": "python",
   "nbconvert_exporter": "python",
   "pygments_lexer": "ipython2",
   "version": "2.7.6"
  }
 },
 "nbformat": 4,
 "nbformat_minor": 0
}
